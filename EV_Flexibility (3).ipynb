{
 "cells": [
  {
   "cell_type": "code",
   "execution_count": 62,
   "id": "f58c48ae-1817-45ac-a42d-722205681278",
   "metadata": {},
   "outputs": [],
   "source": [
    "import json\n",
    "import pandas as pd\n",
    "import matplotlib.pyplot as plt"
   ]
  },
  {
   "cell_type": "code",
   "execution_count": 63,
   "id": "dd72e3a0-bf72-49c1-a2ce-3dc7e4c3a621",
   "metadata": {},
   "outputs": [],
   "source": [
    "data = json.load(open('acndata_sessions(1).json'))"
   ]
  },
  {
   "cell_type": "code",
   "execution_count": 64,
   "id": "3f215dc6-edbc-4a1f-92fd-5e8d9cbcc3ef",
   "metadata": {},
   "outputs": [],
   "source": [
    "df = pd.DataFrame(data[\"_items\"])"
   ]
  },
  {
   "cell_type": "code",
   "execution_count": 65,
   "id": "79103fe9-955d-4b27-a8bf-6396bd81c28c",
   "metadata": {},
   "outputs": [
    {
     "data": {
      "text/html": [
       "<div>\n",
       "<style scoped>\n",
       "    .dataframe tbody tr th:only-of-type {\n",
       "        vertical-align: middle;\n",
       "    }\n",
       "\n",
       "    .dataframe tbody tr th {\n",
       "        vertical-align: top;\n",
       "    }\n",
       "\n",
       "    .dataframe thead th {\n",
       "        text-align: right;\n",
       "    }\n",
       "</style>\n",
       "<table border=\"1\" class=\"dataframe\">\n",
       "  <thead>\n",
       "    <tr style=\"text-align: right;\">\n",
       "      <th></th>\n",
       "      <th>_id</th>\n",
       "      <th>clusterID</th>\n",
       "      <th>connectionTime</th>\n",
       "      <th>disconnectTime</th>\n",
       "      <th>doneChargingTime</th>\n",
       "      <th>kWhDelivered</th>\n",
       "      <th>sessionID</th>\n",
       "      <th>siteID</th>\n",
       "      <th>spaceID</th>\n",
       "      <th>stationID</th>\n",
       "      <th>timezone</th>\n",
       "      <th>userID</th>\n",
       "      <th>userInputs</th>\n",
       "    </tr>\n",
       "  </thead>\n",
       "  <tbody>\n",
       "    <tr>\n",
       "      <th>0</th>\n",
       "      <td>60cbe90ef9af8b207905e60d</td>\n",
       "      <td>0039</td>\n",
       "      <td>Wed, 02 Jun 2021 02:30:41 GMT</td>\n",
       "      <td>Wed, 02 Jun 2021 03:53:12 GMT</td>\n",
       "      <td>Wed, 02 Jun 2021 03:02:02 GMT</td>\n",
       "      <td>0.816</td>\n",
       "      <td>2_39_139_28_2021-06-02 02:30:40.573850</td>\n",
       "      <td>0002</td>\n",
       "      <td>CA-303</td>\n",
       "      <td>2-39-139-28</td>\n",
       "      <td>America/Los_Angeles</td>\n",
       "      <td>None</td>\n",
       "      <td>None</td>\n",
       "    </tr>\n",
       "    <tr>\n",
       "      <th>1</th>\n",
       "      <td>60cbe90ef9af8b207905e60e</td>\n",
       "      <td>0039</td>\n",
       "      <td>Wed, 02 Jun 2021 03:11:42 GMT</td>\n",
       "      <td>Wed, 02 Jun 2021 04:17:55 GMT</td>\n",
       "      <td>None</td>\n",
       "      <td>49.072</td>\n",
       "      <td>2_39_81_4550_2021-06-02 03:11:17.513917</td>\n",
       "      <td>0002</td>\n",
       "      <td>11900388</td>\n",
       "      <td>2-39-81-4550</td>\n",
       "      <td>America/Los_Angeles</td>\n",
       "      <td>000009741</td>\n",
       "      <td>[{'WhPerMile': 258, 'kWhRequested': 25.8, 'mil...</td>\n",
       "    </tr>\n",
       "    <tr>\n",
       "      <th>2</th>\n",
       "      <td>60cbe90ef9af8b207905e60f</td>\n",
       "      <td>0039</td>\n",
       "      <td>Wed, 02 Jun 2021 04:40:35 GMT</td>\n",
       "      <td>Wed, 02 Jun 2021 06:18:15 GMT</td>\n",
       "      <td>Wed, 02 Jun 2021 06:18:02 GMT</td>\n",
       "      <td>10.668</td>\n",
       "      <td>2_39_79_383_2021-06-02 04:40:35.114311</td>\n",
       "      <td>0002</td>\n",
       "      <td>CA-492</td>\n",
       "      <td>2-39-79-383</td>\n",
       "      <td>America/Los_Angeles</td>\n",
       "      <td>000001470</td>\n",
       "      <td>[{'WhPerMile': 284, 'kWhRequested': 28.4, 'mil...</td>\n",
       "    </tr>\n",
       "    <tr>\n",
       "      <th>3</th>\n",
       "      <td>60cd3a8ff9af8b228751eab0</td>\n",
       "      <td>0039</td>\n",
       "      <td>Wed, 02 Jun 2021 14:43:00 GMT</td>\n",
       "      <td>Wed, 02 Jun 2021 15:31:18 GMT</td>\n",
       "      <td>Wed, 02 Jun 2021 15:23:37 GMT</td>\n",
       "      <td>1.888</td>\n",
       "      <td>2_39_125_21_2021-06-02 14:42:33.185464</td>\n",
       "      <td>0002</td>\n",
       "      <td>CA-311</td>\n",
       "      <td>2-39-125-21</td>\n",
       "      <td>America/Los_Angeles</td>\n",
       "      <td>000001746</td>\n",
       "      <td>[{'WhPerMile': 350, 'kWhRequested': 35.0, 'mil...</td>\n",
       "    </tr>\n",
       "    <tr>\n",
       "      <th>4</th>\n",
       "      <td>60cd3a8ff9af8b228751eab1</td>\n",
       "      <td>0039</td>\n",
       "      <td>Wed, 02 Jun 2021 15:22:50 GMT</td>\n",
       "      <td>Wed, 02 Jun 2021 15:43:01 GMT</td>\n",
       "      <td>None</td>\n",
       "      <td>11.590</td>\n",
       "      <td>2_39_81_4550_2021-06-02 15:22:26.301751</td>\n",
       "      <td>0002</td>\n",
       "      <td>11900388</td>\n",
       "      <td>2-39-81-4550</td>\n",
       "      <td>America/Los_Angeles</td>\n",
       "      <td>000009561</td>\n",
       "      <td>[{'WhPerMile': 299, 'kWhRequested': 38.87, 'mi...</td>\n",
       "    </tr>\n",
       "    <tr>\n",
       "      <th>...</th>\n",
       "      <td>...</td>\n",
       "      <td>...</td>\n",
       "      <td>...</td>\n",
       "      <td>...</td>\n",
       "      <td>...</td>\n",
       "      <td>...</td>\n",
       "      <td>...</td>\n",
       "      <td>...</td>\n",
       "      <td>...</td>\n",
       "      <td>...</td>\n",
       "      <td>...</td>\n",
       "      <td>...</td>\n",
       "      <td>...</td>\n",
       "    </tr>\n",
       "    <tr>\n",
       "      <th>442</th>\n",
       "      <td>60f3769cf9af8b5d8686697c</td>\n",
       "      <td>0039</td>\n",
       "      <td>Thu, 01 Jul 2021 21:28:42 GMT</td>\n",
       "      <td>Thu, 01 Jul 2021 23:06:25 GMT</td>\n",
       "      <td>None</td>\n",
       "      <td>60.148</td>\n",
       "      <td>2_39_81_4550_2021-07-01 21:28:27.706772</td>\n",
       "      <td>0002</td>\n",
       "      <td>11900388</td>\n",
       "      <td>2-39-81-4550</td>\n",
       "      <td>America/Los_Angeles</td>\n",
       "      <td>000004903</td>\n",
       "      <td>[{'WhPerMile': 258, 'kWhRequested': 82.56, 'mi...</td>\n",
       "    </tr>\n",
       "    <tr>\n",
       "      <th>443</th>\n",
       "      <td>60f3769cf9af8b5d8686697d</td>\n",
       "      <td>0039</td>\n",
       "      <td>Thu, 01 Jul 2021 21:39:33 GMT</td>\n",
       "      <td>Thu, 01 Jul 2021 22:11:12 GMT</td>\n",
       "      <td>Thu, 01 Jul 2021 22:11:07 GMT</td>\n",
       "      <td>1.745</td>\n",
       "      <td>2_39_139_28_2021-07-01 21:39:22.327346</td>\n",
       "      <td>0002</td>\n",
       "      <td>CA-303</td>\n",
       "      <td>2-39-139-28</td>\n",
       "      <td>America/Los_Angeles</td>\n",
       "      <td>000015855</td>\n",
       "      <td>[{'WhPerMile': 283, 'kWhRequested': 2.83, 'mil...</td>\n",
       "    </tr>\n",
       "    <tr>\n",
       "      <th>444</th>\n",
       "      <td>60f3769cf9af8b5d8686697e</td>\n",
       "      <td>0039</td>\n",
       "      <td>Thu, 01 Jul 2021 22:20:35 GMT</td>\n",
       "      <td>Thu, 01 Jul 2021 23:35:43 GMT</td>\n",
       "      <td>Thu, 01 Jul 2021 23:05:30 GMT</td>\n",
       "      <td>2.196</td>\n",
       "      <td>2_39_125_21_2021-07-01 22:20:24.317872</td>\n",
       "      <td>0002</td>\n",
       "      <td>CA-311</td>\n",
       "      <td>2-39-125-21</td>\n",
       "      <td>America/Los_Angeles</td>\n",
       "      <td>000001746</td>\n",
       "      <td>[{'WhPerMile': 350, 'kWhRequested': 35.0, 'mil...</td>\n",
       "    </tr>\n",
       "    <tr>\n",
       "      <th>445</th>\n",
       "      <td>60f3769cf9af8b5d8686697f</td>\n",
       "      <td>0039</td>\n",
       "      <td>Thu, 01 Jul 2021 23:12:03 GMT</td>\n",
       "      <td>Thu, 01 Jul 2021 23:45:52 GMT</td>\n",
       "      <td>None</td>\n",
       "      <td>16.412</td>\n",
       "      <td>2_39_81_4550_2021-07-01 23:11:55.190948</td>\n",
       "      <td>0002</td>\n",
       "      <td>11900388</td>\n",
       "      <td>2-39-81-4550</td>\n",
       "      <td>America/Los_Angeles</td>\n",
       "      <td>000009307</td>\n",
       "      <td>[{'WhPerMile': 301, 'kWhRequested': 45.15, 'mi...</td>\n",
       "    </tr>\n",
       "    <tr>\n",
       "      <th>446</th>\n",
       "      <td>60f3769cf9af8b5d86866980</td>\n",
       "      <td>0039</td>\n",
       "      <td>Thu, 01 Jul 2021 23:29:09 GMT</td>\n",
       "      <td>Thu, 01 Jul 2021 23:58:43 GMT</td>\n",
       "      <td>Thu, 01 Jul 2021 23:58:36 GMT</td>\n",
       "      <td>1.685</td>\n",
       "      <td>2_39_129_17_2021-07-01 23:29:00.861299</td>\n",
       "      <td>0002</td>\n",
       "      <td>CA-307</td>\n",
       "      <td>2-39-129-17</td>\n",
       "      <td>America/Los_Angeles</td>\n",
       "      <td>000014564</td>\n",
       "      <td>[{'WhPerMile': 250, 'kWhRequested': 9.0, 'mile...</td>\n",
       "    </tr>\n",
       "  </tbody>\n",
       "</table>\n",
       "<p>447 rows × 13 columns</p>\n",
       "</div>"
      ],
      "text/plain": [
       "                          _id clusterID                 connectionTime  \\\n",
       "0    60cbe90ef9af8b207905e60d      0039  Wed, 02 Jun 2021 02:30:41 GMT   \n",
       "1    60cbe90ef9af8b207905e60e      0039  Wed, 02 Jun 2021 03:11:42 GMT   \n",
       "2    60cbe90ef9af8b207905e60f      0039  Wed, 02 Jun 2021 04:40:35 GMT   \n",
       "3    60cd3a8ff9af8b228751eab0      0039  Wed, 02 Jun 2021 14:43:00 GMT   \n",
       "4    60cd3a8ff9af8b228751eab1      0039  Wed, 02 Jun 2021 15:22:50 GMT   \n",
       "..                        ...       ...                            ...   \n",
       "442  60f3769cf9af8b5d8686697c      0039  Thu, 01 Jul 2021 21:28:42 GMT   \n",
       "443  60f3769cf9af8b5d8686697d      0039  Thu, 01 Jul 2021 21:39:33 GMT   \n",
       "444  60f3769cf9af8b5d8686697e      0039  Thu, 01 Jul 2021 22:20:35 GMT   \n",
       "445  60f3769cf9af8b5d8686697f      0039  Thu, 01 Jul 2021 23:12:03 GMT   \n",
       "446  60f3769cf9af8b5d86866980      0039  Thu, 01 Jul 2021 23:29:09 GMT   \n",
       "\n",
       "                    disconnectTime               doneChargingTime  \\\n",
       "0    Wed, 02 Jun 2021 03:53:12 GMT  Wed, 02 Jun 2021 03:02:02 GMT   \n",
       "1    Wed, 02 Jun 2021 04:17:55 GMT                           None   \n",
       "2    Wed, 02 Jun 2021 06:18:15 GMT  Wed, 02 Jun 2021 06:18:02 GMT   \n",
       "3    Wed, 02 Jun 2021 15:31:18 GMT  Wed, 02 Jun 2021 15:23:37 GMT   \n",
       "4    Wed, 02 Jun 2021 15:43:01 GMT                           None   \n",
       "..                             ...                            ...   \n",
       "442  Thu, 01 Jul 2021 23:06:25 GMT                           None   \n",
       "443  Thu, 01 Jul 2021 22:11:12 GMT  Thu, 01 Jul 2021 22:11:07 GMT   \n",
       "444  Thu, 01 Jul 2021 23:35:43 GMT  Thu, 01 Jul 2021 23:05:30 GMT   \n",
       "445  Thu, 01 Jul 2021 23:45:52 GMT                           None   \n",
       "446  Thu, 01 Jul 2021 23:58:43 GMT  Thu, 01 Jul 2021 23:58:36 GMT   \n",
       "\n",
       "     kWhDelivered                                sessionID siteID   spaceID  \\\n",
       "0           0.816   2_39_139_28_2021-06-02 02:30:40.573850   0002    CA-303   \n",
       "1          49.072  2_39_81_4550_2021-06-02 03:11:17.513917   0002  11900388   \n",
       "2          10.668   2_39_79_383_2021-06-02 04:40:35.114311   0002    CA-492   \n",
       "3           1.888   2_39_125_21_2021-06-02 14:42:33.185464   0002    CA-311   \n",
       "4          11.590  2_39_81_4550_2021-06-02 15:22:26.301751   0002  11900388   \n",
       "..            ...                                      ...    ...       ...   \n",
       "442        60.148  2_39_81_4550_2021-07-01 21:28:27.706772   0002  11900388   \n",
       "443         1.745   2_39_139_28_2021-07-01 21:39:22.327346   0002    CA-303   \n",
       "444         2.196   2_39_125_21_2021-07-01 22:20:24.317872   0002    CA-311   \n",
       "445        16.412  2_39_81_4550_2021-07-01 23:11:55.190948   0002  11900388   \n",
       "446         1.685   2_39_129_17_2021-07-01 23:29:00.861299   0002    CA-307   \n",
       "\n",
       "        stationID             timezone     userID  \\\n",
       "0     2-39-139-28  America/Los_Angeles       None   \n",
       "1    2-39-81-4550  America/Los_Angeles  000009741   \n",
       "2     2-39-79-383  America/Los_Angeles  000001470   \n",
       "3     2-39-125-21  America/Los_Angeles  000001746   \n",
       "4    2-39-81-4550  America/Los_Angeles  000009561   \n",
       "..            ...                  ...        ...   \n",
       "442  2-39-81-4550  America/Los_Angeles  000004903   \n",
       "443   2-39-139-28  America/Los_Angeles  000015855   \n",
       "444   2-39-125-21  America/Los_Angeles  000001746   \n",
       "445  2-39-81-4550  America/Los_Angeles  000009307   \n",
       "446   2-39-129-17  America/Los_Angeles  000014564   \n",
       "\n",
       "                                            userInputs  \n",
       "0                                                 None  \n",
       "1    [{'WhPerMile': 258, 'kWhRequested': 25.8, 'mil...  \n",
       "2    [{'WhPerMile': 284, 'kWhRequested': 28.4, 'mil...  \n",
       "3    [{'WhPerMile': 350, 'kWhRequested': 35.0, 'mil...  \n",
       "4    [{'WhPerMile': 299, 'kWhRequested': 38.87, 'mi...  \n",
       "..                                                 ...  \n",
       "442  [{'WhPerMile': 258, 'kWhRequested': 82.56, 'mi...  \n",
       "443  [{'WhPerMile': 283, 'kWhRequested': 2.83, 'mil...  \n",
       "444  [{'WhPerMile': 350, 'kWhRequested': 35.0, 'mil...  \n",
       "445  [{'WhPerMile': 301, 'kWhRequested': 45.15, 'mi...  \n",
       "446  [{'WhPerMile': 250, 'kWhRequested': 9.0, 'mile...  \n",
       "\n",
       "[447 rows x 13 columns]"
      ]
     },
     "execution_count": 65,
     "metadata": {},
     "output_type": "execute_result"
    }
   ],
   "source": [
    "df"
   ]
  },
  {
   "cell_type": "code",
   "execution_count": 66,
   "id": "e0d0e742-d763-42c5-b456-cf80647409af",
   "metadata": {},
   "outputs": [],
   "source": [
    "connect_time = []\n",
    "\n",
    "for i in range(0,len(df['connectionTime'])):\n",
    "    connect_time.append(df['connectionTime'][i][17:25])"
   ]
  },
  {
   "cell_type": "code",
   "execution_count": 67,
   "id": "6ab2a31f-5497-4dfb-86e7-3496ac2671a7",
   "metadata": {},
   "outputs": [],
   "source": [
    "disconnect_time = []\n",
    "\n",
    "for i in range(0,len(df['disconnectTime'])):\n",
    "    disconnect_time.append(df['disconnectTime'][i][17:25])"
   ]
  },
  {
   "cell_type": "code",
   "execution_count": 68,
   "id": "66c5ec35-5cb5-402e-8663-6cec7d8d4483",
   "metadata": {},
   "outputs": [],
   "source": [
    "done_charging = []\n",
    "\n",
    "for i in range(0,len(df['doneChargingTime'])):\n",
    "    if df['doneChargingTime'][i] != None:\n",
    "        done_charging.append(df['doneChargingTime'][i][17:25])\n",
    "    else:\n",
    "        done_charging.append(None)"
   ]
  },
  {
   "cell_type": "code",
   "execution_count": 69,
   "id": "740090ad-2fe5-4822-aef2-65d94c8da65d",
   "metadata": {},
   "outputs": [],
   "source": [
    "done_charging_dt = pd.to_datetime(done_charging)"
   ]
  },
  {
   "cell_type": "code",
   "execution_count": 70,
   "id": "515b139f-c712-49e1-9260-3078d77a579b",
   "metadata": {},
   "outputs": [
    {
     "data": {
      "text/plain": [
       "DatetimeIndex(['2021-12-01 03:02:02',                 'NaT',\n",
       "               '2021-12-01 06:18:02', '2021-12-01 15:23:37',\n",
       "                               'NaT', '2021-12-01 19:25:23',\n",
       "               '2021-12-01 18:38:14', '2021-12-01 19:51:04',\n",
       "               '2021-12-01 00:28:58', '2021-12-01 16:52:32',\n",
       "               ...\n",
       "                               'NaT', '2021-12-01 21:55:25',\n",
       "                               'NaT', '2021-12-01 21:54:16',\n",
       "               '2021-12-01 22:30:38',                 'NaT',\n",
       "               '2021-12-01 22:11:07', '2021-12-01 23:05:30',\n",
       "                               'NaT', '2021-12-01 23:58:36'],\n",
       "              dtype='datetime64[ns]', length=447, freq=None)"
      ]
     },
     "execution_count": 70,
     "metadata": {},
     "output_type": "execute_result"
    }
   ],
   "source": [
    "done_charging_dt"
   ]
  },
  {
   "cell_type": "code",
   "execution_count": 71,
   "id": "31d73e89-14a3-4bfb-b1df-15dc8dde25c1",
   "metadata": {},
   "outputs": [],
   "source": [
    "connect_time_dt = pd.to_datetime(connect_time)"
   ]
  },
  {
   "cell_type": "code",
   "execution_count": 72,
   "id": "cc79b5a4-edc7-469f-9bed-0026d5189961",
   "metadata": {},
   "outputs": [
    {
     "data": {
      "text/plain": [
       "DatetimeIndex(['2021-12-01 02:30:41', '2021-12-01 03:11:42',\n",
       "               '2021-12-01 04:40:35', '2021-12-01 14:43:00',\n",
       "               '2021-12-01 15:22:50', '2021-12-01 15:45:54',\n",
       "               '2021-12-01 15:47:45', '2021-12-01 15:55:01',\n",
       "               '2021-12-01 16:05:19', '2021-12-01 16:07:03',\n",
       "               ...\n",
       "               '2021-12-01 17:57:44', '2021-12-01 19:53:08',\n",
       "               '2021-12-01 20:01:53', '2021-12-01 20:06:06',\n",
       "               '2021-12-01 20:41:34', '2021-12-01 21:28:42',\n",
       "               '2021-12-01 21:39:33', '2021-12-01 22:20:35',\n",
       "               '2021-12-01 23:12:03', '2021-12-01 23:29:09'],\n",
       "              dtype='datetime64[ns]', length=447, freq=None)"
      ]
     },
     "execution_count": 72,
     "metadata": {},
     "output_type": "execute_result"
    }
   ],
   "source": [
    "connect_time_dt"
   ]
  },
  {
   "cell_type": "code",
   "execution_count": 73,
   "id": "093548ab-0bcd-4678-93b9-5a79696eaf5e",
   "metadata": {},
   "outputs": [],
   "source": [
    "disconnect_time_dt = pd.to_datetime(disconnect_time)"
   ]
  },
  {
   "cell_type": "code",
   "execution_count": 74,
   "id": "4f94531e-431c-43a4-a9e8-686ee88ab20b",
   "metadata": {},
   "outputs": [],
   "source": [
    "charging_time = disconnect_time_dt - connect_time_dt"
   ]
  },
  {
   "cell_type": "code",
   "execution_count": 75,
   "id": "a302d280-7ecc-40da-af3b-3121a3782eb5",
   "metadata": {},
   "outputs": [],
   "source": [
    "df['chargingTime'] = charging_time"
   ]
  },
  {
   "cell_type": "code",
   "execution_count": 76,
   "id": "856839b5-6e58-4376-a0de-53bc705d34f4",
   "metadata": {},
   "outputs": [
    {
     "data": {
      "text/plain": [
       "'Thu, 03 Jun 2021 00:05:44 GMT'"
      ]
     },
     "execution_count": 76,
     "metadata": {},
     "output_type": "execute_result"
    }
   ],
   "source": [
    "df['disconnectTime'][11]"
   ]
  },
  {
   "cell_type": "code",
   "execution_count": 77,
   "id": "5afe1fad-6a4d-4d6c-9bb2-d9ba6db9c11f",
   "metadata": {},
   "outputs": [
    {
     "data": {
      "text/plain": [
       "'Wed, 02 Jun 2021 21:11:20 GMT'"
      ]
     },
     "execution_count": 77,
     "metadata": {},
     "output_type": "execute_result"
    }
   ],
   "source": [
    "df['connectionTime'][11]"
   ]
  },
  {
   "cell_type": "code",
   "execution_count": 78,
   "id": "17320f84-14d2-4428-8a51-1f82889a9a35",
   "metadata": {},
   "outputs": [
    {
     "data": {
      "text/plain": [
       "Timedelta('0 days 09:10:07')"
      ]
     },
     "execution_count": 78,
     "metadata": {},
     "output_type": "execute_result"
    }
   ],
   "source": [
    "df['chargingTime'].max()"
   ]
  },
  {
   "cell_type": "code",
   "execution_count": 79,
   "id": "04fada0a-0c8d-4a5d-83d5-b882a82a0a13",
   "metadata": {},
   "outputs": [],
   "source": [
    "overcharge_time = []\n",
    "\n",
    "for i in range(0, len(done_charging_dt)):\n",
    "    if done_charging_dt[i] != None:\n",
    "        overcharge_time.append(disconnect_time_dt[i] - done_charging_dt[i])\n",
    "    else:\n",
    "        overcharge_time.append(None)"
   ]
  },
  {
   "cell_type": "code",
   "execution_count": 80,
   "id": "413a5665-3fce-4f4a-b27c-9ddd9b2b92bd",
   "metadata": {},
   "outputs": [],
   "source": [
    "df['overchargeTime'] = overcharge_time"
   ]
  },
  {
   "cell_type": "code",
   "execution_count": 81,
   "id": "781424d6-5807-4345-9c28-4c97d2b62c6e",
   "metadata": {},
   "outputs": [
    {
     "data": {
      "text/plain": [
       "1374.0"
      ]
     },
     "execution_count": 81,
     "metadata": {},
     "output_type": "execute_result"
    }
   ],
   "source": [
    "86400 + (df['overchargeTime'].astype('timedelta64[s]')[11])"
   ]
  },
  {
   "cell_type": "code",
   "execution_count": 82,
   "id": "d33ec3f8-0b98-40f9-ad03-dadafb290fef",
   "metadata": {},
   "outputs": [
    {
     "data": {
      "text/plain": [
       "Timedelta('-1 days +00:22:54')"
      ]
     },
     "execution_count": 82,
     "metadata": {},
     "output_type": "execute_result"
    }
   ],
   "source": [
    "df['overchargeTime'][11]"
   ]
  },
  {
   "cell_type": "code",
   "execution_count": 83,
   "id": "c4f49890-7a97-4573-96cb-27d80182cb4f",
   "metadata": {},
   "outputs": [],
   "source": [
    "overcharge_sec = []\n",
    "\n",
    "for i in range(0,len(df['overchargeTime'].astype('timedelta64[D]'))):\n",
    "    if (df['overchargeTime'].astype('timedelta64[D]')[i]) == -1.0:\n",
    "        overcharge_sec.append((86400 + (df['overchargeTime'].astype('timedelta64[s]')[i])))\n",
    "    else:\n",
    "        overcharge_sec.append(df['overchargeTime'].astype('timedelta64[s]')[i])\n",
    "\n",
    "\n",
    "#df['overchargeTime'].astype('timedelta64[D]')"
   ]
  },
  {
   "cell_type": "code",
   "execution_count": 84,
   "id": "18680fea-0e45-4860-899c-bcd066001ffa",
   "metadata": {},
   "outputs": [],
   "source": [
    "df['overchargeTime (seconds)'] = overcharge_sec"
   ]
  },
  {
   "cell_type": "code",
   "execution_count": 85,
   "id": "cd2201e5-adf8-4e3c-8a74-a6a2be859cba",
   "metadata": {},
   "outputs": [
    {
     "data": {
      "text/plain": [
       "86342.0"
      ]
     },
     "execution_count": 85,
     "metadata": {},
     "output_type": "execute_result"
    }
   ],
   "source": [
    "df['overchargeTime (seconds)'].max()"
   ]
  },
  {
   "cell_type": "code",
   "execution_count": 86,
   "id": "93208ceb-4f24-4fbc-af71-d15f5b010e2e",
   "metadata": {},
   "outputs": [
    {
     "data": {
      "text/plain": [
       "'23:59:02'"
      ]
     },
     "execution_count": 86,
     "metadata": {},
     "output_type": "execute_result"
    }
   ],
   "source": [
    "import datetime\n",
    "\n",
    "str(datetime.timedelta(seconds=df['overchargeTime (seconds)'].max()))"
   ]
  },
  {
   "cell_type": "code",
   "execution_count": 87,
   "id": "d8edc0cc-c6b7-4785-bc8f-c64942c52ab1",
   "metadata": {},
   "outputs": [
    {
     "data": {
      "text/html": [
       "<div>\n",
       "<style scoped>\n",
       "    .dataframe tbody tr th:only-of-type {\n",
       "        vertical-align: middle;\n",
       "    }\n",
       "\n",
       "    .dataframe tbody tr th {\n",
       "        vertical-align: top;\n",
       "    }\n",
       "\n",
       "    .dataframe thead th {\n",
       "        text-align: right;\n",
       "    }\n",
       "</style>\n",
       "<table border=\"1\" class=\"dataframe\">\n",
       "  <thead>\n",
       "    <tr style=\"text-align: right;\">\n",
       "      <th></th>\n",
       "      <th>_id</th>\n",
       "      <th>clusterID</th>\n",
       "      <th>connectionTime</th>\n",
       "      <th>disconnectTime</th>\n",
       "      <th>doneChargingTime</th>\n",
       "      <th>kWhDelivered</th>\n",
       "      <th>sessionID</th>\n",
       "      <th>siteID</th>\n",
       "      <th>spaceID</th>\n",
       "      <th>stationID</th>\n",
       "      <th>timezone</th>\n",
       "      <th>userID</th>\n",
       "      <th>userInputs</th>\n",
       "      <th>chargingTime</th>\n",
       "      <th>overchargeTime</th>\n",
       "      <th>overchargeTime (seconds)</th>\n",
       "    </tr>\n",
       "  </thead>\n",
       "  <tbody>\n",
       "    <tr>\n",
       "      <th>0</th>\n",
       "      <td>60cbe90ef9af8b207905e60d</td>\n",
       "      <td>0039</td>\n",
       "      <td>Wed, 02 Jun 2021 02:30:41 GMT</td>\n",
       "      <td>Wed, 02 Jun 2021 03:53:12 GMT</td>\n",
       "      <td>Wed, 02 Jun 2021 03:02:02 GMT</td>\n",
       "      <td>0.816</td>\n",
       "      <td>2_39_139_28_2021-06-02 02:30:40.573850</td>\n",
       "      <td>0002</td>\n",
       "      <td>CA-303</td>\n",
       "      <td>2-39-139-28</td>\n",
       "      <td>America/Los_Angeles</td>\n",
       "      <td>None</td>\n",
       "      <td>None</td>\n",
       "      <td>0 days 01:22:31</td>\n",
       "      <td>0 days 00:51:10</td>\n",
       "      <td>3070.0</td>\n",
       "    </tr>\n",
       "    <tr>\n",
       "      <th>1</th>\n",
       "      <td>60cbe90ef9af8b207905e60e</td>\n",
       "      <td>0039</td>\n",
       "      <td>Wed, 02 Jun 2021 03:11:42 GMT</td>\n",
       "      <td>Wed, 02 Jun 2021 04:17:55 GMT</td>\n",
       "      <td>None</td>\n",
       "      <td>49.072</td>\n",
       "      <td>2_39_81_4550_2021-06-02 03:11:17.513917</td>\n",
       "      <td>0002</td>\n",
       "      <td>11900388</td>\n",
       "      <td>2-39-81-4550</td>\n",
       "      <td>America/Los_Angeles</td>\n",
       "      <td>000009741</td>\n",
       "      <td>[{'WhPerMile': 258, 'kWhRequested': 25.8, 'mil...</td>\n",
       "      <td>0 days 01:06:13</td>\n",
       "      <td>NaT</td>\n",
       "      <td>NaN</td>\n",
       "    </tr>\n",
       "    <tr>\n",
       "      <th>2</th>\n",
       "      <td>60cbe90ef9af8b207905e60f</td>\n",
       "      <td>0039</td>\n",
       "      <td>Wed, 02 Jun 2021 04:40:35 GMT</td>\n",
       "      <td>Wed, 02 Jun 2021 06:18:15 GMT</td>\n",
       "      <td>Wed, 02 Jun 2021 06:18:02 GMT</td>\n",
       "      <td>10.668</td>\n",
       "      <td>2_39_79_383_2021-06-02 04:40:35.114311</td>\n",
       "      <td>0002</td>\n",
       "      <td>CA-492</td>\n",
       "      <td>2-39-79-383</td>\n",
       "      <td>America/Los_Angeles</td>\n",
       "      <td>000001470</td>\n",
       "      <td>[{'WhPerMile': 284, 'kWhRequested': 28.4, 'mil...</td>\n",
       "      <td>0 days 01:37:40</td>\n",
       "      <td>0 days 00:00:13</td>\n",
       "      <td>13.0</td>\n",
       "    </tr>\n",
       "    <tr>\n",
       "      <th>3</th>\n",
       "      <td>60cd3a8ff9af8b228751eab0</td>\n",
       "      <td>0039</td>\n",
       "      <td>Wed, 02 Jun 2021 14:43:00 GMT</td>\n",
       "      <td>Wed, 02 Jun 2021 15:31:18 GMT</td>\n",
       "      <td>Wed, 02 Jun 2021 15:23:37 GMT</td>\n",
       "      <td>1.888</td>\n",
       "      <td>2_39_125_21_2021-06-02 14:42:33.185464</td>\n",
       "      <td>0002</td>\n",
       "      <td>CA-311</td>\n",
       "      <td>2-39-125-21</td>\n",
       "      <td>America/Los_Angeles</td>\n",
       "      <td>000001746</td>\n",
       "      <td>[{'WhPerMile': 350, 'kWhRequested': 35.0, 'mil...</td>\n",
       "      <td>0 days 00:48:18</td>\n",
       "      <td>0 days 00:07:41</td>\n",
       "      <td>461.0</td>\n",
       "    </tr>\n",
       "    <tr>\n",
       "      <th>4</th>\n",
       "      <td>60cd3a8ff9af8b228751eab1</td>\n",
       "      <td>0039</td>\n",
       "      <td>Wed, 02 Jun 2021 15:22:50 GMT</td>\n",
       "      <td>Wed, 02 Jun 2021 15:43:01 GMT</td>\n",
       "      <td>None</td>\n",
       "      <td>11.590</td>\n",
       "      <td>2_39_81_4550_2021-06-02 15:22:26.301751</td>\n",
       "      <td>0002</td>\n",
       "      <td>11900388</td>\n",
       "      <td>2-39-81-4550</td>\n",
       "      <td>America/Los_Angeles</td>\n",
       "      <td>000009561</td>\n",
       "      <td>[{'WhPerMile': 299, 'kWhRequested': 38.87, 'mi...</td>\n",
       "      <td>0 days 00:20:11</td>\n",
       "      <td>NaT</td>\n",
       "      <td>NaN</td>\n",
       "    </tr>\n",
       "    <tr>\n",
       "      <th>...</th>\n",
       "      <td>...</td>\n",
       "      <td>...</td>\n",
       "      <td>...</td>\n",
       "      <td>...</td>\n",
       "      <td>...</td>\n",
       "      <td>...</td>\n",
       "      <td>...</td>\n",
       "      <td>...</td>\n",
       "      <td>...</td>\n",
       "      <td>...</td>\n",
       "      <td>...</td>\n",
       "      <td>...</td>\n",
       "      <td>...</td>\n",
       "      <td>...</td>\n",
       "      <td>...</td>\n",
       "      <td>...</td>\n",
       "    </tr>\n",
       "    <tr>\n",
       "      <th>442</th>\n",
       "      <td>60f3769cf9af8b5d8686697c</td>\n",
       "      <td>0039</td>\n",
       "      <td>Thu, 01 Jul 2021 21:28:42 GMT</td>\n",
       "      <td>Thu, 01 Jul 2021 23:06:25 GMT</td>\n",
       "      <td>None</td>\n",
       "      <td>60.148</td>\n",
       "      <td>2_39_81_4550_2021-07-01 21:28:27.706772</td>\n",
       "      <td>0002</td>\n",
       "      <td>11900388</td>\n",
       "      <td>2-39-81-4550</td>\n",
       "      <td>America/Los_Angeles</td>\n",
       "      <td>000004903</td>\n",
       "      <td>[{'WhPerMile': 258, 'kWhRequested': 82.56, 'mi...</td>\n",
       "      <td>0 days 01:37:43</td>\n",
       "      <td>NaT</td>\n",
       "      <td>NaN</td>\n",
       "    </tr>\n",
       "    <tr>\n",
       "      <th>443</th>\n",
       "      <td>60f3769cf9af8b5d8686697d</td>\n",
       "      <td>0039</td>\n",
       "      <td>Thu, 01 Jul 2021 21:39:33 GMT</td>\n",
       "      <td>Thu, 01 Jul 2021 22:11:12 GMT</td>\n",
       "      <td>Thu, 01 Jul 2021 22:11:07 GMT</td>\n",
       "      <td>1.745</td>\n",
       "      <td>2_39_139_28_2021-07-01 21:39:22.327346</td>\n",
       "      <td>0002</td>\n",
       "      <td>CA-303</td>\n",
       "      <td>2-39-139-28</td>\n",
       "      <td>America/Los_Angeles</td>\n",
       "      <td>000015855</td>\n",
       "      <td>[{'WhPerMile': 283, 'kWhRequested': 2.83, 'mil...</td>\n",
       "      <td>0 days 00:31:39</td>\n",
       "      <td>0 days 00:00:05</td>\n",
       "      <td>5.0</td>\n",
       "    </tr>\n",
       "    <tr>\n",
       "      <th>444</th>\n",
       "      <td>60f3769cf9af8b5d8686697e</td>\n",
       "      <td>0039</td>\n",
       "      <td>Thu, 01 Jul 2021 22:20:35 GMT</td>\n",
       "      <td>Thu, 01 Jul 2021 23:35:43 GMT</td>\n",
       "      <td>Thu, 01 Jul 2021 23:05:30 GMT</td>\n",
       "      <td>2.196</td>\n",
       "      <td>2_39_125_21_2021-07-01 22:20:24.317872</td>\n",
       "      <td>0002</td>\n",
       "      <td>CA-311</td>\n",
       "      <td>2-39-125-21</td>\n",
       "      <td>America/Los_Angeles</td>\n",
       "      <td>000001746</td>\n",
       "      <td>[{'WhPerMile': 350, 'kWhRequested': 35.0, 'mil...</td>\n",
       "      <td>0 days 01:15:08</td>\n",
       "      <td>0 days 00:30:13</td>\n",
       "      <td>1813.0</td>\n",
       "    </tr>\n",
       "    <tr>\n",
       "      <th>445</th>\n",
       "      <td>60f3769cf9af8b5d8686697f</td>\n",
       "      <td>0039</td>\n",
       "      <td>Thu, 01 Jul 2021 23:12:03 GMT</td>\n",
       "      <td>Thu, 01 Jul 2021 23:45:52 GMT</td>\n",
       "      <td>None</td>\n",
       "      <td>16.412</td>\n",
       "      <td>2_39_81_4550_2021-07-01 23:11:55.190948</td>\n",
       "      <td>0002</td>\n",
       "      <td>11900388</td>\n",
       "      <td>2-39-81-4550</td>\n",
       "      <td>America/Los_Angeles</td>\n",
       "      <td>000009307</td>\n",
       "      <td>[{'WhPerMile': 301, 'kWhRequested': 45.15, 'mi...</td>\n",
       "      <td>0 days 00:33:49</td>\n",
       "      <td>NaT</td>\n",
       "      <td>NaN</td>\n",
       "    </tr>\n",
       "    <tr>\n",
       "      <th>446</th>\n",
       "      <td>60f3769cf9af8b5d86866980</td>\n",
       "      <td>0039</td>\n",
       "      <td>Thu, 01 Jul 2021 23:29:09 GMT</td>\n",
       "      <td>Thu, 01 Jul 2021 23:58:43 GMT</td>\n",
       "      <td>Thu, 01 Jul 2021 23:58:36 GMT</td>\n",
       "      <td>1.685</td>\n",
       "      <td>2_39_129_17_2021-07-01 23:29:00.861299</td>\n",
       "      <td>0002</td>\n",
       "      <td>CA-307</td>\n",
       "      <td>2-39-129-17</td>\n",
       "      <td>America/Los_Angeles</td>\n",
       "      <td>000014564</td>\n",
       "      <td>[{'WhPerMile': 250, 'kWhRequested': 9.0, 'mile...</td>\n",
       "      <td>0 days 00:29:34</td>\n",
       "      <td>0 days 00:00:07</td>\n",
       "      <td>7.0</td>\n",
       "    </tr>\n",
       "  </tbody>\n",
       "</table>\n",
       "<p>447 rows × 16 columns</p>\n",
       "</div>"
      ],
      "text/plain": [
       "                          _id clusterID                 connectionTime  \\\n",
       "0    60cbe90ef9af8b207905e60d      0039  Wed, 02 Jun 2021 02:30:41 GMT   \n",
       "1    60cbe90ef9af8b207905e60e      0039  Wed, 02 Jun 2021 03:11:42 GMT   \n",
       "2    60cbe90ef9af8b207905e60f      0039  Wed, 02 Jun 2021 04:40:35 GMT   \n",
       "3    60cd3a8ff9af8b228751eab0      0039  Wed, 02 Jun 2021 14:43:00 GMT   \n",
       "4    60cd3a8ff9af8b228751eab1      0039  Wed, 02 Jun 2021 15:22:50 GMT   \n",
       "..                        ...       ...                            ...   \n",
       "442  60f3769cf9af8b5d8686697c      0039  Thu, 01 Jul 2021 21:28:42 GMT   \n",
       "443  60f3769cf9af8b5d8686697d      0039  Thu, 01 Jul 2021 21:39:33 GMT   \n",
       "444  60f3769cf9af8b5d8686697e      0039  Thu, 01 Jul 2021 22:20:35 GMT   \n",
       "445  60f3769cf9af8b5d8686697f      0039  Thu, 01 Jul 2021 23:12:03 GMT   \n",
       "446  60f3769cf9af8b5d86866980      0039  Thu, 01 Jul 2021 23:29:09 GMT   \n",
       "\n",
       "                    disconnectTime               doneChargingTime  \\\n",
       "0    Wed, 02 Jun 2021 03:53:12 GMT  Wed, 02 Jun 2021 03:02:02 GMT   \n",
       "1    Wed, 02 Jun 2021 04:17:55 GMT                           None   \n",
       "2    Wed, 02 Jun 2021 06:18:15 GMT  Wed, 02 Jun 2021 06:18:02 GMT   \n",
       "3    Wed, 02 Jun 2021 15:31:18 GMT  Wed, 02 Jun 2021 15:23:37 GMT   \n",
       "4    Wed, 02 Jun 2021 15:43:01 GMT                           None   \n",
       "..                             ...                            ...   \n",
       "442  Thu, 01 Jul 2021 23:06:25 GMT                           None   \n",
       "443  Thu, 01 Jul 2021 22:11:12 GMT  Thu, 01 Jul 2021 22:11:07 GMT   \n",
       "444  Thu, 01 Jul 2021 23:35:43 GMT  Thu, 01 Jul 2021 23:05:30 GMT   \n",
       "445  Thu, 01 Jul 2021 23:45:52 GMT                           None   \n",
       "446  Thu, 01 Jul 2021 23:58:43 GMT  Thu, 01 Jul 2021 23:58:36 GMT   \n",
       "\n",
       "     kWhDelivered                                sessionID siteID   spaceID  \\\n",
       "0           0.816   2_39_139_28_2021-06-02 02:30:40.573850   0002    CA-303   \n",
       "1          49.072  2_39_81_4550_2021-06-02 03:11:17.513917   0002  11900388   \n",
       "2          10.668   2_39_79_383_2021-06-02 04:40:35.114311   0002    CA-492   \n",
       "3           1.888   2_39_125_21_2021-06-02 14:42:33.185464   0002    CA-311   \n",
       "4          11.590  2_39_81_4550_2021-06-02 15:22:26.301751   0002  11900388   \n",
       "..            ...                                      ...    ...       ...   \n",
       "442        60.148  2_39_81_4550_2021-07-01 21:28:27.706772   0002  11900388   \n",
       "443         1.745   2_39_139_28_2021-07-01 21:39:22.327346   0002    CA-303   \n",
       "444         2.196   2_39_125_21_2021-07-01 22:20:24.317872   0002    CA-311   \n",
       "445        16.412  2_39_81_4550_2021-07-01 23:11:55.190948   0002  11900388   \n",
       "446         1.685   2_39_129_17_2021-07-01 23:29:00.861299   0002    CA-307   \n",
       "\n",
       "        stationID             timezone     userID  \\\n",
       "0     2-39-139-28  America/Los_Angeles       None   \n",
       "1    2-39-81-4550  America/Los_Angeles  000009741   \n",
       "2     2-39-79-383  America/Los_Angeles  000001470   \n",
       "3     2-39-125-21  America/Los_Angeles  000001746   \n",
       "4    2-39-81-4550  America/Los_Angeles  000009561   \n",
       "..            ...                  ...        ...   \n",
       "442  2-39-81-4550  America/Los_Angeles  000004903   \n",
       "443   2-39-139-28  America/Los_Angeles  000015855   \n",
       "444   2-39-125-21  America/Los_Angeles  000001746   \n",
       "445  2-39-81-4550  America/Los_Angeles  000009307   \n",
       "446   2-39-129-17  America/Los_Angeles  000014564   \n",
       "\n",
       "                                            userInputs    chargingTime  \\\n",
       "0                                                 None 0 days 01:22:31   \n",
       "1    [{'WhPerMile': 258, 'kWhRequested': 25.8, 'mil... 0 days 01:06:13   \n",
       "2    [{'WhPerMile': 284, 'kWhRequested': 28.4, 'mil... 0 days 01:37:40   \n",
       "3    [{'WhPerMile': 350, 'kWhRequested': 35.0, 'mil... 0 days 00:48:18   \n",
       "4    [{'WhPerMile': 299, 'kWhRequested': 38.87, 'mi... 0 days 00:20:11   \n",
       "..                                                 ...             ...   \n",
       "442  [{'WhPerMile': 258, 'kWhRequested': 82.56, 'mi... 0 days 01:37:43   \n",
       "443  [{'WhPerMile': 283, 'kWhRequested': 2.83, 'mil... 0 days 00:31:39   \n",
       "444  [{'WhPerMile': 350, 'kWhRequested': 35.0, 'mil... 0 days 01:15:08   \n",
       "445  [{'WhPerMile': 301, 'kWhRequested': 45.15, 'mi... 0 days 00:33:49   \n",
       "446  [{'WhPerMile': 250, 'kWhRequested': 9.0, 'mile... 0 days 00:29:34   \n",
       "\n",
       "     overchargeTime  overchargeTime (seconds)  \n",
       "0   0 days 00:51:10                    3070.0  \n",
       "1               NaT                       NaN  \n",
       "2   0 days 00:00:13                      13.0  \n",
       "3   0 days 00:07:41                     461.0  \n",
       "4               NaT                       NaN  \n",
       "..              ...                       ...  \n",
       "442             NaT                       NaN  \n",
       "443 0 days 00:00:05                       5.0  \n",
       "444 0 days 00:30:13                    1813.0  \n",
       "445             NaT                       NaN  \n",
       "446 0 days 00:00:07                       7.0  \n",
       "\n",
       "[447 rows x 16 columns]"
      ]
     },
     "execution_count": 87,
     "metadata": {},
     "output_type": "execute_result"
    }
   ],
   "source": [
    "df"
   ]
  },
  {
   "cell_type": "code",
   "execution_count": 88,
   "id": "31ef6c00-62f6-4894-afb6-84c7680e0d13",
   "metadata": {},
   "outputs": [],
   "source": [
    "df['overchargeTime (hours)'] = (df['overchargeTime (seconds)'] / 3600)"
   ]
  },
  {
   "cell_type": "code",
   "execution_count": 89,
   "id": "375eec27-cace-48b8-ab50-e00ef2a75939",
   "metadata": {},
   "outputs": [
    {
     "data": {
      "image/png": "[encoded data removed]",
      "text/plain": [
       "<Figure size 640x480 with 1 Axes>"
      ]
     },
     "metadata": {},
     "output_type": "display_data"
    }
   ],
   "source": [
    "df['overchargeTime (hours)'].plot.hist()\n",
    "plt.title('EVs Hours Overcharged')\n",
    "plt.xlabel('Hours')\n",
    "plt.show()"
   ]
  },
  {
   "cell_type": "code",
   "execution_count": 90,
   "id": "df9f80df-78f5-41a5-90c5-eadd054600f3",
   "metadata": {},
   "outputs": [
    {
     "data": {
      "text/plain": [
       "1374.0"
      ]
     },
     "execution_count": 90,
     "metadata": {},
     "output_type": "execute_result"
    }
   ],
   "source": [
    "df['overchargeTime'].astype('timedelta64[s]')[11] + 86400"
   ]
  },
  {
   "cell_type": "code",
   "execution_count": 91,
   "id": "032dabf6-de10-4352-8caa-624d25353b1a",
   "metadata": {},
   "outputs": [
    {
     "data": {
      "text/plain": [
       "10464.0"
      ]
     },
     "execution_count": 91,
     "metadata": {},
     "output_type": "execute_result"
    }
   ],
   "source": [
    "df['chargingTime'].astype('timedelta64[s]')[11] +86400"
   ]
  },
  {
   "cell_type": "code",
   "execution_count": 92,
   "id": "5d667fac-d13f-4f1b-aed1-2017992526f3",
   "metadata": {},
   "outputs": [],
   "source": [
    "staytime = []\n",
    "\n",
    "for i in range(0,len(df['chargingTime'].astype('timedelta64[D]'))):\n",
    "    if (df['chargingTime'].astype('timedelta64[D]')[i]) == -1.0:\n",
    "        staytime.append((86400 + (df['chargingTime'].astype('timedelta64[s]')[i])))\n",
    "    else:\n",
    "        staytime.append(df['chargingTime'].astype('timedelta64[s]')[i])\n"
   ]
  },
  {
   "cell_type": "code",
   "execution_count": 93,
   "id": "8b109798-bcea-4dbd-a196-686a07128259",
   "metadata": {},
   "outputs": [],
   "source": [
    "df['Stay Time (seconds)'] = staytime"
   ]
  },
  {
   "cell_type": "code",
   "execution_count": 94,
   "id": "039759cb-18e5-43cb-b8ff-028d63bc525a",
   "metadata": {},
   "outputs": [],
   "source": [
    "df['Stay Time (hours)'] = (df['Stay Time (seconds)'] / 3600)"
   ]
  },
  {
   "cell_type": "code",
   "execution_count": 95,
   "id": "84b7b3b0-33e6-4162-97b1-a0f50aec0070",
   "metadata": {},
   "outputs": [
    {
     "data": {
      "text/plain": [
       "23.983888888888888"
      ]
     },
     "execution_count": 95,
     "metadata": {},
     "output_type": "execute_result"
    }
   ],
   "source": [
    "df['overchargeTime (hours)'].max()"
   ]
  },
  {
   "cell_type": "code",
   "execution_count": 96,
   "id": "c928366e-6088-4d1b-aa83-daf26403aa19",
   "metadata": {},
   "outputs": [
    {
     "data": {
      "text/plain": [
       "18.72138888888889"
      ]
     },
     "execution_count": 96,
     "metadata": {},
     "output_type": "execute_result"
    }
   ],
   "source": [
    "df['Stay Time (hours)'].max()"
   ]
  },
  {
   "cell_type": "code",
   "execution_count": 97,
   "id": "ecbbc8be-e8ce-47ce-b7d5-ad408b95b678",
   "metadata": {},
   "outputs": [
    {
     "data": {
      "image/png": "[encoded data removed]",
      "text/plain": [
       "<Figure size 640x480 with 1 Axes>"
      ]
     },
     "metadata": {},
     "output_type": "display_data"
    }
   ],
   "source": [
    "df['Stay Time (hours)'].plot.hist()\n",
    "plt.title('Maximum Stay Time')\n",
    "plt.xlabel('Hours')\n",
    "plt.show()"
   ]
  },
  {
   "cell_type": "code",
   "execution_count": 98,
   "id": "658dd073-1728-4c74-be55-8432d19d308d",
   "metadata": {},
   "outputs": [
    {
     "data": {
      "text/plain": [
       "100"
      ]
     },
     "execution_count": 98,
     "metadata": {},
     "output_type": "execute_result"
    }
   ],
   "source": [
    "df['userInputs'][1][0]['milesRequested']"
   ]
  },
  {
   "cell_type": "code",
   "execution_count": 99,
   "id": "12a36e02-04c5-4529-b6ea-359697a4533a",
   "metadata": {},
   "outputs": [],
   "source": [
    "miles_per_wh = []\n",
    "\n",
    "for i in range(0,len(df['userInputs'])):\n",
    "    if df['userInputs'][i] != None:\n",
    "         miles_per_wh.append(df['userInputs'][i][0]['WhPerMile'])\n",
    "    else:        \n",
    "        miles_per_wh.append(None)"
   ]
  },
  {
   "cell_type": "code",
   "execution_count": null,
   "id": "61038a89-1efe-4d59-86f6-662d18e7ab1f",
   "metadata": {},
   "outputs": [],
   "source": []
  },
  {
   "cell_type": "code",
   "execution_count": 100,
   "id": "c6213155-e64c-40c0-b091-c817e5534194",
   "metadata": {},
   "outputs": [],
   "source": [
    "watts_del = []\n",
    "\n",
    "for i in range(0,len(df['kWhDelivered'])):\n",
    "    watts_del.append((df['kWhDelivered'][i]) * 1000)\n"
   ]
  },
  {
   "cell_type": "code",
   "execution_count": 101,
   "id": "1813392d-436e-4f70-8186-07158bb9ef6a",
   "metadata": {},
   "outputs": [],
   "source": [
    "miles_until_charge = []\n",
    "\n",
    "for i in range(0, len(df)):\n",
    "    if miles_per_wh[i] != None:\n",
    "        miles_until_charge.append(watts_del[i] / miles_per_wh[i])\n",
    "    else:\n",
    "        miles_until_charge.append(None)"
   ]
  },
  {
   "cell_type": "code",
   "execution_count": 102,
   "id": "0165a352-4c24-4bb3-8695-b09e6d3bd8ae",
   "metadata": {},
   "outputs": [],
   "source": [
    "df['Miles Until Charge'] = miles_until_charge"
   ]
  },
  {
   "cell_type": "code",
   "execution_count": 103,
   "id": "b730d8fe-466d-4e55-888c-2d9f5d98c8f6",
   "metadata": {},
   "outputs": [
    {
     "data": {
      "text/html": [
       "<div>\n",
       "<style scoped>\n",
       "    .dataframe tbody tr th:only-of-type {\n",
       "        vertical-align: middle;\n",
       "    }\n",
       "\n",
       "    .dataframe tbody tr th {\n",
       "        vertical-align: top;\n",
       "    }\n",
       "\n",
       "    .dataframe thead th {\n",
       "        text-align: right;\n",
       "    }\n",
       "</style>\n",
       "<table border=\"1\" class=\"dataframe\">\n",
       "  <thead>\n",
       "    <tr style=\"text-align: right;\">\n",
       "      <th></th>\n",
       "      <th>_id</th>\n",
       "      <th>clusterID</th>\n",
       "      <th>connectionTime</th>\n",
       "      <th>disconnectTime</th>\n",
       "      <th>doneChargingTime</th>\n",
       "      <th>kWhDelivered</th>\n",
       "      <th>sessionID</th>\n",
       "      <th>siteID</th>\n",
       "      <th>spaceID</th>\n",
       "      <th>stationID</th>\n",
       "      <th>timezone</th>\n",
       "      <th>userID</th>\n",
       "      <th>userInputs</th>\n",
       "      <th>chargingTime</th>\n",
       "      <th>overchargeTime</th>\n",
       "      <th>overchargeTime (seconds)</th>\n",
       "      <th>overchargeTime (hours)</th>\n",
       "      <th>Stay Time (seconds)</th>\n",
       "      <th>Stay Time (hours)</th>\n",
       "      <th>Miles Until Charge</th>\n",
       "    </tr>\n",
       "  </thead>\n",
       "  <tbody>\n",
       "    <tr>\n",
       "      <th>0</th>\n",
       "      <td>60cbe90ef9af8b207905e60d</td>\n",
       "      <td>0039</td>\n",
       "      <td>Wed, 02 Jun 2021 02:30:41 GMT</td>\n",
       "      <td>Wed, 02 Jun 2021 03:53:12 GMT</td>\n",
       "      <td>Wed, 02 Jun 2021 03:02:02 GMT</td>\n",
       "      <td>0.816</td>\n",
       "      <td>2_39_139_28_2021-06-02 02:30:40.573850</td>\n",
       "      <td>0002</td>\n",
       "      <td>CA-303</td>\n",
       "      <td>2-39-139-28</td>\n",
       "      <td>America/Los_Angeles</td>\n",
       "      <td>None</td>\n",
       "      <td>None</td>\n",
       "      <td>0 days 01:22:31</td>\n",
       "      <td>0 days 00:51:10</td>\n",
       "      <td>3070.0</td>\n",
       "      <td>0.852778</td>\n",
       "      <td>4951.0</td>\n",
       "      <td>1.375278</td>\n",
       "      <td>NaN</td>\n",
       "    </tr>\n",
       "    <tr>\n",
       "      <th>1</th>\n",
       "      <td>60cbe90ef9af8b207905e60e</td>\n",
       "      <td>0039</td>\n",
       "      <td>Wed, 02 Jun 2021 03:11:42 GMT</td>\n",
       "      <td>Wed, 02 Jun 2021 04:17:55 GMT</td>\n",
       "      <td>None</td>\n",
       "      <td>49.072</td>\n",
       "      <td>2_39_81_4550_2021-06-02 03:11:17.513917</td>\n",
       "      <td>0002</td>\n",
       "      <td>11900388</td>\n",
       "      <td>2-39-81-4550</td>\n",
       "      <td>America/Los_Angeles</td>\n",
       "      <td>000009741</td>\n",
       "      <td>[{'WhPerMile': 258, 'kWhRequested': 25.8, 'mil...</td>\n",
       "      <td>0 days 01:06:13</td>\n",
       "      <td>NaT</td>\n",
       "      <td>NaN</td>\n",
       "      <td>NaN</td>\n",
       "      <td>3973.0</td>\n",
       "      <td>1.103611</td>\n",
       "      <td>190.201550</td>\n",
       "    </tr>\n",
       "    <tr>\n",
       "      <th>2</th>\n",
       "      <td>60cbe90ef9af8b207905e60f</td>\n",
       "      <td>0039</td>\n",
       "      <td>Wed, 02 Jun 2021 04:40:35 GMT</td>\n",
       "      <td>Wed, 02 Jun 2021 06:18:15 GMT</td>\n",
       "      <td>Wed, 02 Jun 2021 06:18:02 GMT</td>\n",
       "      <td>10.668</td>\n",
       "      <td>2_39_79_383_2021-06-02 04:40:35.114311</td>\n",
       "      <td>0002</td>\n",
       "      <td>CA-492</td>\n",
       "      <td>2-39-79-383</td>\n",
       "      <td>America/Los_Angeles</td>\n",
       "      <td>000001470</td>\n",
       "      <td>[{'WhPerMile': 284, 'kWhRequested': 28.4, 'mil...</td>\n",
       "      <td>0 days 01:37:40</td>\n",
       "      <td>0 days 00:00:13</td>\n",
       "      <td>13.0</td>\n",
       "      <td>0.003611</td>\n",
       "      <td>5860.0</td>\n",
       "      <td>1.627778</td>\n",
       "      <td>37.563380</td>\n",
       "    </tr>\n",
       "    <tr>\n",
       "      <th>3</th>\n",
       "      <td>60cd3a8ff9af8b228751eab0</td>\n",
       "      <td>0039</td>\n",
       "      <td>Wed, 02 Jun 2021 14:43:00 GMT</td>\n",
       "      <td>Wed, 02 Jun 2021 15:31:18 GMT</td>\n",
       "      <td>Wed, 02 Jun 2021 15:23:37 GMT</td>\n",
       "      <td>1.888</td>\n",
       "      <td>2_39_125_21_2021-06-02 14:42:33.185464</td>\n",
       "      <td>0002</td>\n",
       "      <td>CA-311</td>\n",
       "      <td>2-39-125-21</td>\n",
       "      <td>America/Los_Angeles</td>\n",
       "      <td>000001746</td>\n",
       "      <td>[{'WhPerMile': 350, 'kWhRequested': 35.0, 'mil...</td>\n",
       "      <td>0 days 00:48:18</td>\n",
       "      <td>0 days 00:07:41</td>\n",
       "      <td>461.0</td>\n",
       "      <td>0.128056</td>\n",
       "      <td>2898.0</td>\n",
       "      <td>0.805000</td>\n",
       "      <td>5.394286</td>\n",
       "    </tr>\n",
       "    <tr>\n",
       "      <th>4</th>\n",
       "      <td>60cd3a8ff9af8b228751eab1</td>\n",
       "      <td>0039</td>\n",
       "      <td>Wed, 02 Jun 2021 15:22:50 GMT</td>\n",
       "      <td>Wed, 02 Jun 2021 15:43:01 GMT</td>\n",
       "      <td>None</td>\n",
       "      <td>11.590</td>\n",
       "      <td>2_39_81_4550_2021-06-02 15:22:26.301751</td>\n",
       "      <td>0002</td>\n",
       "      <td>11900388</td>\n",
       "      <td>2-39-81-4550</td>\n",
       "      <td>America/Los_Angeles</td>\n",
       "      <td>000009561</td>\n",
       "      <td>[{'WhPerMile': 299, 'kWhRequested': 38.87, 'mi...</td>\n",
       "      <td>0 days 00:20:11</td>\n",
       "      <td>NaT</td>\n",
       "      <td>NaN</td>\n",
       "      <td>NaN</td>\n",
       "      <td>1211.0</td>\n",
       "      <td>0.336389</td>\n",
       "      <td>38.762542</td>\n",
       "    </tr>\n",
       "    <tr>\n",
       "      <th>...</th>\n",
       "      <td>...</td>\n",
       "      <td>...</td>\n",
       "      <td>...</td>\n",
       "      <td>...</td>\n",
       "      <td>...</td>\n",
       "      <td>...</td>\n",
       "      <td>...</td>\n",
       "      <td>...</td>\n",
       "      <td>...</td>\n",
       "      <td>...</td>\n",
       "      <td>...</td>\n",
       "      <td>...</td>\n",
       "      <td>...</td>\n",
       "      <td>...</td>\n",
       "      <td>...</td>\n",
       "      <td>...</td>\n",
       "      <td>...</td>\n",
       "      <td>...</td>\n",
       "      <td>...</td>\n",
       "      <td>...</td>\n",
       "    </tr>\n",
       "    <tr>\n",
       "      <th>442</th>\n",
       "      <td>60f3769cf9af8b5d8686697c</td>\n",
       "      <td>0039</td>\n",
       "      <td>Thu, 01 Jul 2021 21:28:42 GMT</td>\n",
       "      <td>Thu, 01 Jul 2021 23:06:25 GMT</td>\n",
       "      <td>None</td>\n",
       "      <td>60.148</td>\n",
       "      <td>2_39_81_4550_2021-07-01 21:28:27.706772</td>\n",
       "      <td>0002</td>\n",
       "      <td>11900388</td>\n",
       "      <td>2-39-81-4550</td>\n",
       "      <td>America/Los_Angeles</td>\n",
       "      <td>000004903</td>\n",
       "      <td>[{'WhPerMile': 258, 'kWhRequested': 82.56, 'mi...</td>\n",
       "      <td>0 days 01:37:43</td>\n",
       "      <td>NaT</td>\n",
       "      <td>NaN</td>\n",
       "      <td>NaN</td>\n",
       "      <td>5863.0</td>\n",
       "      <td>1.628611</td>\n",
       "      <td>233.131783</td>\n",
       "    </tr>\n",
       "    <tr>\n",
       "      <th>443</th>\n",
       "      <td>60f3769cf9af8b5d8686697d</td>\n",
       "      <td>0039</td>\n",
       "      <td>Thu, 01 Jul 2021 21:39:33 GMT</td>\n",
       "      <td>Thu, 01 Jul 2021 22:11:12 GMT</td>\n",
       "      <td>Thu, 01 Jul 2021 22:11:07 GMT</td>\n",
       "      <td>1.745</td>\n",
       "      <td>2_39_139_28_2021-07-01 21:39:22.327346</td>\n",
       "      <td>0002</td>\n",
       "      <td>CA-303</td>\n",
       "      <td>2-39-139-28</td>\n",
       "      <td>America/Los_Angeles</td>\n",
       "      <td>000015855</td>\n",
       "      <td>[{'WhPerMile': 283, 'kWhRequested': 2.83, 'mil...</td>\n",
       "      <td>0 days 00:31:39</td>\n",
       "      <td>0 days 00:00:05</td>\n",
       "      <td>5.0</td>\n",
       "      <td>0.001389</td>\n",
       "      <td>1899.0</td>\n",
       "      <td>0.527500</td>\n",
       "      <td>6.166078</td>\n",
       "    </tr>\n",
       "    <tr>\n",
       "      <th>444</th>\n",
       "      <td>60f3769cf9af8b5d8686697e</td>\n",
       "      <td>0039</td>\n",
       "      <td>Thu, 01 Jul 2021 22:20:35 GMT</td>\n",
       "      <td>Thu, 01 Jul 2021 23:35:43 GMT</td>\n",
       "      <td>Thu, 01 Jul 2021 23:05:30 GMT</td>\n",
       "      <td>2.196</td>\n",
       "      <td>2_39_125_21_2021-07-01 22:20:24.317872</td>\n",
       "      <td>0002</td>\n",
       "      <td>CA-311</td>\n",
       "      <td>2-39-125-21</td>\n",
       "      <td>America/Los_Angeles</td>\n",
       "      <td>000001746</td>\n",
       "      <td>[{'WhPerMile': 350, 'kWhRequested': 35.0, 'mil...</td>\n",
       "      <td>0 days 01:15:08</td>\n",
       "      <td>0 days 00:30:13</td>\n",
       "      <td>1813.0</td>\n",
       "      <td>0.503611</td>\n",
       "      <td>4508.0</td>\n",
       "      <td>1.252222</td>\n",
       "      <td>6.274286</td>\n",
       "    </tr>\n",
       "    <tr>\n",
       "      <th>445</th>\n",
       "      <td>60f3769cf9af8b5d8686697f</td>\n",
       "      <td>0039</td>\n",
       "      <td>Thu, 01 Jul 2021 23:12:03 GMT</td>\n",
       "      <td>Thu, 01 Jul 2021 23:45:52 GMT</td>\n",
       "      <td>None</td>\n",
       "      <td>16.412</td>\n",
       "      <td>2_39_81_4550_2021-07-01 23:11:55.190948</td>\n",
       "      <td>0002</td>\n",
       "      <td>11900388</td>\n",
       "      <td>2-39-81-4550</td>\n",
       "      <td>America/Los_Angeles</td>\n",
       "      <td>000009307</td>\n",
       "      <td>[{'WhPerMile': 301, 'kWhRequested': 45.15, 'mi...</td>\n",
       "      <td>0 days 00:33:49</td>\n",
       "      <td>NaT</td>\n",
       "      <td>NaN</td>\n",
       "      <td>NaN</td>\n",
       "      <td>2029.0</td>\n",
       "      <td>0.563611</td>\n",
       "      <td>54.524917</td>\n",
       "    </tr>\n",
       "    <tr>\n",
       "      <th>446</th>\n",
       "      <td>60f3769cf9af8b5d86866980</td>\n",
       "      <td>0039</td>\n",
       "      <td>Thu, 01 Jul 2021 23:29:09 GMT</td>\n",
       "      <td>Thu, 01 Jul 2021 23:58:43 GMT</td>\n",
       "      <td>Thu, 01 Jul 2021 23:58:36 GMT</td>\n",
       "      <td>1.685</td>\n",
       "      <td>2_39_129_17_2021-07-01 23:29:00.861299</td>\n",
       "      <td>0002</td>\n",
       "      <td>CA-307</td>\n",
       "      <td>2-39-129-17</td>\n",
       "      <td>America/Los_Angeles</td>\n",
       "      <td>000014564</td>\n",
       "      <td>[{'WhPerMile': 250, 'kWhRequested': 9.0, 'mile...</td>\n",
       "      <td>0 days 00:29:34</td>\n",
       "      <td>0 days 00:00:07</td>\n",
       "      <td>7.0</td>\n",
       "      <td>0.001944</td>\n",
       "      <td>1774.0</td>\n",
       "      <td>0.492778</td>\n",
       "      <td>6.740000</td>\n",
       "    </tr>\n",
       "  </tbody>\n",
       "</table>\n",
       "<p>447 rows × 20 columns</p>\n",
       "</div>"
      ],
      "text/plain": [
       "                          _id clusterID                 connectionTime  \\\n",
       "0    60cbe90ef9af8b207905e60d      0039  Wed, 02 Jun 2021 02:30:41 GMT   \n",
       "1    60cbe90ef9af8b207905e60e      0039  Wed, 02 Jun 2021 03:11:42 GMT   \n",
       "2    60cbe90ef9af8b207905e60f      0039  Wed, 02 Jun 2021 04:40:35 GMT   \n",
       "3    60cd3a8ff9af8b228751eab0      0039  Wed, 02 Jun 2021 14:43:00 GMT   \n",
       "4    60cd3a8ff9af8b228751eab1      0039  Wed, 02 Jun 2021 15:22:50 GMT   \n",
       "..                        ...       ...                            ...   \n",
       "442  60f3769cf9af8b5d8686697c      0039  Thu, 01 Jul 2021 21:28:42 GMT   \n",
       "443  60f3769cf9af8b5d8686697d      0039  Thu, 01 Jul 2021 21:39:33 GMT   \n",
       "444  60f3769cf9af8b5d8686697e      0039  Thu, 01 Jul 2021 22:20:35 GMT   \n",
       "445  60f3769cf9af8b5d8686697f      0039  Thu, 01 Jul 2021 23:12:03 GMT   \n",
       "446  60f3769cf9af8b5d86866980      0039  Thu, 01 Jul 2021 23:29:09 GMT   \n",
       "\n",
       "                    disconnectTime               doneChargingTime  \\\n",
       "0    Wed, 02 Jun 2021 03:53:12 GMT  Wed, 02 Jun 2021 03:02:02 GMT   \n",
       "1    Wed, 02 Jun 2021 04:17:55 GMT                           None   \n",
       "2    Wed, 02 Jun 2021 06:18:15 GMT  Wed, 02 Jun 2021 06:18:02 GMT   \n",
       "3    Wed, 02 Jun 2021 15:31:18 GMT  Wed, 02 Jun 2021 15:23:37 GMT   \n",
       "4    Wed, 02 Jun 2021 15:43:01 GMT                           None   \n",
       "..                             ...                            ...   \n",
       "442  Thu, 01 Jul 2021 23:06:25 GMT                           None   \n",
       "443  Thu, 01 Jul 2021 22:11:12 GMT  Thu, 01 Jul 2021 22:11:07 GMT   \n",
       "444  Thu, 01 Jul 2021 23:35:43 GMT  Thu, 01 Jul 2021 23:05:30 GMT   \n",
       "445  Thu, 01 Jul 2021 23:45:52 GMT                           None   \n",
       "446  Thu, 01 Jul 2021 23:58:43 GMT  Thu, 01 Jul 2021 23:58:36 GMT   \n",
       "\n",
       "     kWhDelivered                                sessionID siteID   spaceID  \\\n",
       "0           0.816   2_39_139_28_2021-06-02 02:30:40.573850   0002    CA-303   \n",
       "1          49.072  2_39_81_4550_2021-06-02 03:11:17.513917   0002  11900388   \n",
       "2          10.668   2_39_79_383_2021-06-02 04:40:35.114311   0002    CA-492   \n",
       "3           1.888   2_39_125_21_2021-06-02 14:42:33.185464   0002    CA-311   \n",
       "4          11.590  2_39_81_4550_2021-06-02 15:22:26.301751   0002  11900388   \n",
       "..            ...                                      ...    ...       ...   \n",
       "442        60.148  2_39_81_4550_2021-07-01 21:28:27.706772   0002  11900388   \n",
       "443         1.745   2_39_139_28_2021-07-01 21:39:22.327346   0002    CA-303   \n",
       "444         2.196   2_39_125_21_2021-07-01 22:20:24.317872   0002    CA-311   \n",
       "445        16.412  2_39_81_4550_2021-07-01 23:11:55.190948   0002  11900388   \n",
       "446         1.685   2_39_129_17_2021-07-01 23:29:00.861299   0002    CA-307   \n",
       "\n",
       "        stationID             timezone     userID  \\\n",
       "0     2-39-139-28  America/Los_Angeles       None   \n",
       "1    2-39-81-4550  America/Los_Angeles  000009741   \n",
       "2     2-39-79-383  America/Los_Angeles  000001470   \n",
       "3     2-39-125-21  America/Los_Angeles  000001746   \n",
       "4    2-39-81-4550  America/Los_Angeles  000009561   \n",
       "..            ...                  ...        ...   \n",
       "442  2-39-81-4550  America/Los_Angeles  000004903   \n",
       "443   2-39-139-28  America/Los_Angeles  000015855   \n",
       "444   2-39-125-21  America/Los_Angeles  000001746   \n",
       "445  2-39-81-4550  America/Los_Angeles  000009307   \n",
       "446   2-39-129-17  America/Los_Angeles  000014564   \n",
       "\n",
       "                                            userInputs    chargingTime  \\\n",
       "0                                                 None 0 days 01:22:31   \n",
       "1    [{'WhPerMile': 258, 'kWhRequested': 25.8, 'mil... 0 days 01:06:13   \n",
       "2    [{'WhPerMile': 284, 'kWhRequested': 28.4, 'mil... 0 days 01:37:40   \n",
       "3    [{'WhPerMile': 350, 'kWhRequested': 35.0, 'mil... 0 days 00:48:18   \n",
       "4    [{'WhPerMile': 299, 'kWhRequested': 38.87, 'mi... 0 days 00:20:11   \n",
       "..                                                 ...             ...   \n",
       "442  [{'WhPerMile': 258, 'kWhRequested': 82.56, 'mi... 0 days 01:37:43   \n",
       "443  [{'WhPerMile': 283, 'kWhRequested': 2.83, 'mil... 0 days 00:31:39   \n",
       "444  [{'WhPerMile': 350, 'kWhRequested': 35.0, 'mil... 0 days 01:15:08   \n",
       "445  [{'WhPerMile': 301, 'kWhRequested': 45.15, 'mi... 0 days 00:33:49   \n",
       "446  [{'WhPerMile': 250, 'kWhRequested': 9.0, 'mile... 0 days 00:29:34   \n",
       "\n",
       "     overchargeTime  overchargeTime (seconds)  overchargeTime (hours)  \\\n",
       "0   0 days 00:51:10                    3070.0                0.852778   \n",
       "1               NaT                       NaN                     NaN   \n",
       "2   0 days 00:00:13                      13.0                0.003611   \n",
       "3   0 days 00:07:41                     461.0                0.128056   \n",
       "4               NaT                       NaN                     NaN   \n",
       "..              ...                       ...                     ...   \n",
       "442             NaT                       NaN                     NaN   \n",
       "443 0 days 00:00:05                       5.0                0.001389   \n",
       "444 0 days 00:30:13                    1813.0                0.503611   \n",
       "445             NaT                       NaN                     NaN   \n",
       "446 0 days 00:00:07                       7.0                0.001944   \n",
       "\n",
       "     Stay Time (seconds)  Stay Time (hours)  Miles Until Charge  \n",
       "0                 4951.0           1.375278                 NaN  \n",
       "1                 3973.0           1.103611          190.201550  \n",
       "2                 5860.0           1.627778           37.563380  \n",
       "3                 2898.0           0.805000            5.394286  \n",
       "4                 1211.0           0.336389           38.762542  \n",
       "..                   ...                ...                 ...  \n",
       "442               5863.0           1.628611          233.131783  \n",
       "443               1899.0           0.527500            6.166078  \n",
       "444               4508.0           1.252222            6.274286  \n",
       "445               2029.0           0.563611           54.524917  \n",
       "446               1774.0           0.492778            6.740000  \n",
       "\n",
       "[447 rows x 20 columns]"
      ]
     },
     "execution_count": 103,
     "metadata": {},
     "output_type": "execute_result"
    }
   ],
   "source": [
    "df"
   ]
  },
  {
   "cell_type": "code",
   "execution_count": 104,
   "id": "2f2e9734-c9c5-4cb6-b2d7-7bf60272ddf6",
   "metadata": {},
   "outputs": [],
   "source": [
    "cluster_df = pd.DataFrame()"
   ]
  },
  {
   "cell_type": "code",
   "execution_count": 105,
   "id": "f9e915e6-16ab-46c1-90ac-4c74365c772a",
   "metadata": {},
   "outputs": [],
   "source": [
    "cluster_df['Stay Time'] = df['Stay Time (hours)']\n",
    "cluster_df['Overcharge Time'] = df['overchargeTime (hours)']\n",
    "cluster_df['Miles Until Charge'] = df['Miles Until Charge']"
   ]
  },
  {
   "cell_type": "code",
   "execution_count": 106,
   "id": "c77cfcf6-1e36-4d33-98a7-2fe29152c0f2",
   "metadata": {},
   "outputs": [
    {
     "data": {
      "text/html": [
       "<div>\n",
       "<style scoped>\n",
       "    .dataframe tbody tr th:only-of-type {\n",
       "        vertical-align: middle;\n",
       "    }\n",
       "\n",
       "    .dataframe tbody tr th {\n",
       "        vertical-align: top;\n",
       "    }\n",
       "\n",
       "    .dataframe thead th {\n",
       "        text-align: right;\n",
       "    }\n",
       "</style>\n",
       "<table border=\"1\" class=\"dataframe\">\n",
       "  <thead>\n",
       "    <tr style=\"text-align: right;\">\n",
       "      <th></th>\n",
       "      <th>Stay Time</th>\n",
       "      <th>Overcharge Time</th>\n",
       "      <th>Miles Until Charge</th>\n",
       "    </tr>\n",
       "  </thead>\n",
       "  <tbody>\n",
       "    <tr>\n",
       "      <th>0</th>\n",
       "      <td>1.375278</td>\n",
       "      <td>0.852778</td>\n",
       "      <td>0.000000</td>\n",
       "    </tr>\n",
       "    <tr>\n",
       "      <th>1</th>\n",
       "      <td>1.103611</td>\n",
       "      <td>0.000000</td>\n",
       "      <td>190.201550</td>\n",
       "    </tr>\n",
       "    <tr>\n",
       "      <th>2</th>\n",
       "      <td>1.627778</td>\n",
       "      <td>0.003611</td>\n",
       "      <td>37.563380</td>\n",
       "    </tr>\n",
       "    <tr>\n",
       "      <th>3</th>\n",
       "      <td>0.805000</td>\n",
       "      <td>0.128056</td>\n",
       "      <td>5.394286</td>\n",
       "    </tr>\n",
       "    <tr>\n",
       "      <th>4</th>\n",
       "      <td>0.336389</td>\n",
       "      <td>0.000000</td>\n",
       "      <td>38.762542</td>\n",
       "    </tr>\n",
       "    <tr>\n",
       "      <th>...</th>\n",
       "      <td>...</td>\n",
       "      <td>...</td>\n",
       "      <td>...</td>\n",
       "    </tr>\n",
       "    <tr>\n",
       "      <th>442</th>\n",
       "      <td>1.628611</td>\n",
       "      <td>0.000000</td>\n",
       "      <td>233.131783</td>\n",
       "    </tr>\n",
       "    <tr>\n",
       "      <th>443</th>\n",
       "      <td>0.527500</td>\n",
       "      <td>0.001389</td>\n",
       "      <td>6.166078</td>\n",
       "    </tr>\n",
       "    <tr>\n",
       "      <th>444</th>\n",
       "      <td>1.252222</td>\n",
       "      <td>0.503611</td>\n",
       "      <td>6.274286</td>\n",
       "    </tr>\n",
       "    <tr>\n",
       "      <th>445</th>\n",
       "      <td>0.563611</td>\n",
       "      <td>0.000000</td>\n",
       "      <td>54.524917</td>\n",
       "    </tr>\n",
       "    <tr>\n",
       "      <th>446</th>\n",
       "      <td>0.492778</td>\n",
       "      <td>0.001944</td>\n",
       "      <td>6.740000</td>\n",
       "    </tr>\n",
       "  </tbody>\n",
       "</table>\n",
       "<p>447 rows × 3 columns</p>\n",
       "</div>"
      ],
      "text/plain": [
       "     Stay Time  Overcharge Time  Miles Until Charge\n",
       "0     1.375278         0.852778            0.000000\n",
       "1     1.103611         0.000000          190.201550\n",
       "2     1.627778         0.003611           37.563380\n",
       "3     0.805000         0.128056            5.394286\n",
       "4     0.336389         0.000000           38.762542\n",
       "..         ...              ...                 ...\n",
       "442   1.628611         0.000000          233.131783\n",
       "443   0.527500         0.001389            6.166078\n",
       "444   1.252222         0.503611            6.274286\n",
       "445   0.563611         0.000000           54.524917\n",
       "446   0.492778         0.001944            6.740000\n",
       "\n",
       "[447 rows x 3 columns]"
      ]
     },
     "execution_count": 106,
     "metadata": {},
     "output_type": "execute_result"
    }
   ],
   "source": [
    "cluster_df = cluster_df.fillna(0)\n",
    "cluster_df"
   ]
  },
  {
   "cell_type": "code",
   "execution_count": 107,
   "id": "3e4c00f8-315d-4d96-a172-52df98ff31d1",
   "metadata": {},
   "outputs": [
    {
     "data": {
      "text/plain": [
       "0.0"
      ]
     },
     "execution_count": 107,
     "metadata": {},
     "output_type": "execute_result"
    }
   ],
   "source": [
    "cluster_df['Overcharge Time'][1]"
   ]
  },
  {
   "cell_type": "code",
   "execution_count": 108,
   "id": "aeb0279f-7b42-459c-8918-92fafe593772",
   "metadata": {},
   "outputs": [],
   "source": [
    "for i in range(0,len(cluster_df['Overcharge Time'])):\n",
    "    if cluster_df['Overcharge Time'][i] == 0.0 or cluster_df['Miles Until Charge'][i] == 0.0:\n",
    "        cluster_df = cluster_df.drop([i])\n"
   ]
  },
  {
   "cell_type": "code",
   "execution_count": 109,
   "id": "494f9ed5-7897-4d6d-a564-e7d4f872c268",
   "metadata": {},
   "outputs": [
    {
     "data": {
      "text/html": [
       "<div>\n",
       "<style scoped>\n",
       "    .dataframe tbody tr th:only-of-type {\n",
       "        vertical-align: middle;\n",
       "    }\n",
       "\n",
       "    .dataframe tbody tr th {\n",
       "        vertical-align: top;\n",
       "    }\n",
       "\n",
       "    .dataframe thead th {\n",
       "        text-align: right;\n",
       "    }\n",
       "</style>\n",
       "<table border=\"1\" class=\"dataframe\">\n",
       "  <thead>\n",
       "    <tr style=\"text-align: right;\">\n",
       "      <th></th>\n",
       "      <th>Stay Time</th>\n",
       "      <th>Overcharge Time</th>\n",
       "      <th>Miles Until Charge</th>\n",
       "    </tr>\n",
       "  </thead>\n",
       "  <tbody>\n",
       "    <tr>\n",
       "      <th>2</th>\n",
       "      <td>1.627778</td>\n",
       "      <td>0.003611</td>\n",
       "      <td>37.563380</td>\n",
       "    </tr>\n",
       "    <tr>\n",
       "      <th>3</th>\n",
       "      <td>0.805000</td>\n",
       "      <td>0.128056</td>\n",
       "      <td>5.394286</td>\n",
       "    </tr>\n",
       "    <tr>\n",
       "      <th>5</th>\n",
       "      <td>6.220556</td>\n",
       "      <td>2.562500</td>\n",
       "      <td>18.644118</td>\n",
       "    </tr>\n",
       "    <tr>\n",
       "      <th>6</th>\n",
       "      <td>2.843889</td>\n",
       "      <td>0.002500</td>\n",
       "      <td>16.762238</td>\n",
       "    </tr>\n",
       "    <tr>\n",
       "      <th>7</th>\n",
       "      <td>3.936389</td>\n",
       "      <td>0.002222</td>\n",
       "      <td>26.209677</td>\n",
       "    </tr>\n",
       "    <tr>\n",
       "      <th>...</th>\n",
       "      <td>...</td>\n",
       "      <td>...</td>\n",
       "      <td>...</td>\n",
       "    </tr>\n",
       "    <tr>\n",
       "      <th>440</th>\n",
       "      <td>3.848889</td>\n",
       "      <td>2.046111</td>\n",
       "      <td>36.919355</td>\n",
       "    </tr>\n",
       "    <tr>\n",
       "      <th>441</th>\n",
       "      <td>3.055000</td>\n",
       "      <td>1.237222</td>\n",
       "      <td>37.304196</td>\n",
       "    </tr>\n",
       "    <tr>\n",
       "      <th>443</th>\n",
       "      <td>0.527500</td>\n",
       "      <td>0.001389</td>\n",
       "      <td>6.166078</td>\n",
       "    </tr>\n",
       "    <tr>\n",
       "      <th>444</th>\n",
       "      <td>1.252222</td>\n",
       "      <td>0.503611</td>\n",
       "      <td>6.274286</td>\n",
       "    </tr>\n",
       "    <tr>\n",
       "      <th>446</th>\n",
       "      <td>0.492778</td>\n",
       "      <td>0.001944</td>\n",
       "      <td>6.740000</td>\n",
       "    </tr>\n",
       "  </tbody>\n",
       "</table>\n",
       "<p>223 rows × 3 columns</p>\n",
       "</div>"
      ],
      "text/plain": [
       "     Stay Time  Overcharge Time  Miles Until Charge\n",
       "2     1.627778         0.003611           37.563380\n",
       "3     0.805000         0.128056            5.394286\n",
       "5     6.220556         2.562500           18.644118\n",
       "6     2.843889         0.002500           16.762238\n",
       "7     3.936389         0.002222           26.209677\n",
       "..         ...              ...                 ...\n",
       "440   3.848889         2.046111           36.919355\n",
       "441   3.055000         1.237222           37.304196\n",
       "443   0.527500         0.001389            6.166078\n",
       "444   1.252222         0.503611            6.274286\n",
       "446   0.492778         0.001944            6.740000\n",
       "\n",
       "[223 rows x 3 columns]"
      ]
     },
     "execution_count": 109,
     "metadata": {},
     "output_type": "execute_result"
    }
   ],
   "source": [
    "cluster_df"
   ]
  },
  {
   "cell_type": "code",
   "execution_count": 115,
   "id": "4c74fe74-f2c4-4b5a-9e55-eb63a32a3419",
   "metadata": {},
   "outputs": [],
   "source": [
    "from pandas import DataFrame\n",
    "import matplotlib.pyplot as plt\n",
    "from sklearn.cluster import KMeans\n",
    "import numpy as np"
   ]
  },
  {
   "cell_type": "code",
   "execution_count": 111,
   "id": "161f1a03-0a39-4102-ae4a-2ecf9dffec1f",
   "metadata": {},
   "outputs": [
    {
     "name": "stdout",
     "output_type": "stream",
     "text": [
      "[[  4.64880247   2.45255556  44.59901483]\n",
      " [  7.49979167   1.36760417 126.75126166]\n",
      " [  3.56905065   2.19406046  15.23723768]]\n"
     ]
    }
   ],
   "source": [
    "kmeans = KMeans(n_clusters=3).fit(cluster_df)\n",
    "centroids = kmeans.cluster_centers_\n",
    "print(centroids)"
   ]
  },
  {
   "cell_type": "code",
   "execution_count": 146,
   "id": "5225a16d-ca7a-4351-a5b8-9949e86375bc",
   "metadata": {},
   "outputs": [
    {
     "data": {
      "image/png": "[encoded data removed]",
      "text/plain": [
       "<Figure size 640x480 with 1 Axes>"
      ]
     },
     "metadata": {},
     "output_type": "display_data"
    }
   ],
   "source": [
    "plt.scatter(cluster_df['Overcharge Time'], cluster_df['Stay Time'], c= kmeans.labels_.astype(float), s=cluster_df['Miles Until Charge'], alpha=0.5)\n",
    "plt.scatter(centroids[:, 0], centroids[:, 1], c='red', s=50)\n",
    "plt.xlabel('Stay Time (hours)')\n",
    "plt.ylabel('Overcharge Time (hours)')\n",
    "plt.show()"
   ]
  },
  {
   "cell_type": "code",
   "execution_count": 147,
   "id": "fd7cc92e-a0a3-4dac-91e6-af04e1c5d054",
   "metadata": {},
   "outputs": [
    {
     "data": {
      "image/png": "[encoded data removed]",
      "text/plain": [
       "<Figure size 640x480 with 1 Axes>"
      ]
     },
     "metadata": {},
     "output_type": "display_data"
    }
   ],
   "source": [
    "plt.scatter(cluster_df['Stay Time'], cluster_df['Miles Until Charge'], c= kmeans.labels_.astype(float), s=50, alpha=0.5)\n",
    "plt.scatter(centroids[:, 0], centroids[:, 1], c='red', s=50)\n",
    "plt.xlabel('Miles Until Charge (miles)')\n",
    "plt.ylabel('Overcharge Time (hours)')\n",
    "plt.show()"
   ]
  },
  {
   "cell_type": "code",
   "execution_count": 124,
   "id": "f2dd1916-b189-44ce-97ec-e9fb81d4ddae",
   "metadata": {},
   "outputs": [
    {
     "data": {
      "image/png": "[encoded data removed]",
      "text/plain": [
       "<Figure size 640x480 with 1 Axes>"
      ]
     },
     "metadata": {},
     "output_type": "display_data"
    }
   ],
   "source": [
    "plt.scatter(cluster_df['Stay Time'], cluster_df['Overcharge Time'], c= kmeans.labels_.astype(float), s=50, alpha=0.5)\n",
    "plt.scatter(centroids[:, 0], centroids[:, 1], c='red', s=50)\n",
    "plt.show()"
   ]
  },
  {
   "cell_type": "code",
   "execution_count": 119,
   "id": "fd8b0af6-094e-43bc-b0ae-1f6f3fcfb9fd",
   "metadata": {},
   "outputs": [
    {
     "data": {
      "text/plain": [
       "16.696991019279746"
      ]
     },
     "execution_count": 119,
     "metadata": {},
     "output_type": "execute_result"
    }
   ],
   "source": []
  },
  {
   "cell_type": "code",
   "execution_count": 125,
   "id": "25245fd9-1cca-4ba2-979d-288991b24d25",
   "metadata": {},
   "outputs": [
    {
     "ename": "SyntaxError",
     "evalue": "unexpected EOF while parsing (<ipython-input-125-0e3f3f975b30>, line 6)",
     "output_type": "error",
     "traceback": [
      "\u001b[0;36m  File \u001b[0;32m\"<ipython-input-125-0e3f3f975b30>\"\u001b[0;36m, line \u001b[0;32m6\u001b[0m\n\u001b[0;31m    \u001b[0m\n\u001b[0m    ^\u001b[0m\n\u001b[0;31mSyntaxError\u001b[0m\u001b[0;31m:\u001b[0m unexpected EOF while parsing\n"
     ]
    }
   ],
   "source": [
    "def best_fit_slope(xs,ys):\n",
    "    m = (((cluster_df['Overcharge Time'].mean()* cluster_df['Stay Time'].mean()) - (cluster_df['Overcharge Time'] * cluster_df['Stay Time']).mean())/((cluster_df['Overcharge Time'].mean()*cluster_df['Overcharge Time'].mean()) - (cluster_df['Overcharge Time'] * cluster_df['Overcharge Time'].mean())))\n",
    "    return m\n",
    "\n",
    "m = best_fit_slope(cluster_df['Overcharge Time'],cluster_df['Stay Time']"
   ]
  },
  {
   "cell_type": "code",
   "execution_count": 127,
   "id": "1870bbab-2acd-4c0d-bfff-b9a833debe70",
   "metadata": {},
   "outputs": [
    {
     "data": {
      "text/plain": [
       "-1.773091293426533"
      ]
     },
     "execution_count": 127,
     "metadata": {},
     "output_type": "execute_result"
    }
   ],
   "source": [
    "m.mean()"
   ]
  },
  {
   "cell_type": "code",
   "execution_count": 137,
   "id": "4ea27671-29b8-4a9e-87bb-e253edfa1b03",
   "metadata": {},
   "outputs": [],
   "source": [
    "def flexibility(stay_time, overcharge_time, miles_until_charge):\n",
    "    if stay_time <= 7 and overcharge_time >= 5 and overcharge_time <= 12.5 and miles_until_charge >= 75 and miles_until_charge <= 150:\n",
    "        print('High Flexibility')\n",
    "    elif stay_time <= 2.5 + 1.77309*(overcharge_time) and miles_until_charge < 25:\n",
    "        print('Low Flexibility')\n",
    "    elif stay_time > 2.5 + 1.77309*(overcharge_time) and miles_until_charge >= 25 and miles_until_charge < 75:\n",
    "        print('Medium Flexibility')\n",
    "    else:\n",
    "        print('Conditions out of Bounds')\n",
    "    "
   ]
  },
  {
   "cell_type": "code",
   "execution_count": 139,
   "id": "ca897acb-a6ff-4c6b-b1b0-96acaf3dc81e",
   "metadata": {},
   "outputs": [
    {
     "name": "stdout",
     "output_type": "stream",
     "text": [
      "Low Flexibility\n"
     ]
    }
   ],
   "source": [
    "flexibility(1,3,5)"
   ]
  },
  {
   "cell_type": "code",
   "execution_count": null,
   "id": "585c1fc4-c074-484f-8f46-1c56633093eb",
   "metadata": {},
   "outputs": [],
   "source": []
  }
 ],
 "metadata": {
  "kernelspec": {
   "display_name": "Python 3",
   "language": "python",
   "name": "python3"
  },
  "language_info": {
   "codemirror_mode": {
    "name": "ipython",
    "version": 3
   },
   "file_extension": ".py",
   "mimetype": "text/x-python",
   "name": "python",
   "nbconvert_exporter": "python",
   "pygments_lexer": "ipython3",
   "version": "3.8.8"
  }
 },
 "nbformat": 4,
 "nbformat_minor": 5
}
