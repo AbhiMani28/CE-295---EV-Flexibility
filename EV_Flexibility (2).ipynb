{
 "cells": [
  {
   "cell_type": "code",
   "execution_count": 152,
   "id": "f58c48ae-1817-45ac-a42d-722205681278",
   "metadata": {},
   "outputs": [],
   "source": [
    "import json\n",
    "import pandas as pd\n",
    "import matplotlib.pyplot as plt"
   ]
  },
  {
   "cell_type": "code",
   "execution_count": 12,
   "id": "dd72e3a0-bf72-49c1-a2ce-3dc7e4c3a621",
   "metadata": {},
   "outputs": [],
   "source": [
    "data = json.load(open('acndata_sessions(1).json'))"
   ]
  },
  {
   "cell_type": "code",
   "execution_count": 18,
   "id": "3f215dc6-edbc-4a1f-92fd-5e8d9cbcc3ef",
   "metadata": {},
   "outputs": [],
   "source": [
    "df = pd.DataFrame(data[\"_items\"])"
   ]
  },
  {
   "cell_type": "code",
   "execution_count": 48,
   "id": "79103fe9-955d-4b27-a8bf-6396bd81c28c",
   "metadata": {},
   "outputs": [
    {
     "data": {
      "text/html": [
       "<div>\n",
       "<style scoped>\n",
       "    .dataframe tbody tr th:only-of-type {\n",
       "        vertical-align: middle;\n",
       "    }\n",
       "\n",
       "    .dataframe tbody tr th {\n",
       "        vertical-align: top;\n",
       "    }\n",
       "\n",
       "    .dataframe thead th {\n",
       "        text-align: right;\n",
       "    }\n",
       "</style>\n",
       "<table border=\"1\" class=\"dataframe\">\n",
       "  <thead>\n",
       "    <tr style=\"text-align: right;\">\n",
       "      <th></th>\n",
       "      <th>_id</th>\n",
       "      <th>clusterID</th>\n",
       "      <th>connectionTime</th>\n",
       "      <th>disconnectTime</th>\n",
       "      <th>doneChargingTime</th>\n",
       "      <th>kWhDelivered</th>\n",
       "      <th>sessionID</th>\n",
       "      <th>siteID</th>\n",
       "      <th>spaceID</th>\n",
       "      <th>stationID</th>\n",
       "      <th>timezone</th>\n",
       "      <th>userID</th>\n",
       "      <th>userInputs</th>\n",
       "    </tr>\n",
       "  </thead>\n",
       "  <tbody>\n",
       "    <tr>\n",
       "      <th>0</th>\n",
       "      <td>60cbe90ef9af8b207905e60d</td>\n",
       "      <td>0039</td>\n",
       "      <td>Wed, 02 Jun 2021 02:30:41 GMT</td>\n",
       "      <td>Wed, 02 Jun 2021 03:53:12 GMT</td>\n",
       "      <td>Wed, 02 Jun 2021 03:02:02 GMT</td>\n",
       "      <td>0.816</td>\n",
       "      <td>2_39_139_28_2021-06-02 02:30:40.573850</td>\n",
       "      <td>0002</td>\n",
       "      <td>CA-303</td>\n",
       "      <td>2-39-139-28</td>\n",
       "      <td>America/Los_Angeles</td>\n",
       "      <td>None</td>\n",
       "      <td>None</td>\n",
       "    </tr>\n",
       "    <tr>\n",
       "      <th>1</th>\n",
       "      <td>60cbe90ef9af8b207905e60e</td>\n",
       "      <td>0039</td>\n",
       "      <td>Wed, 02 Jun 2021 03:11:42 GMT</td>\n",
       "      <td>Wed, 02 Jun 2021 04:17:55 GMT</td>\n",
       "      <td>None</td>\n",
       "      <td>49.072</td>\n",
       "      <td>2_39_81_4550_2021-06-02 03:11:17.513917</td>\n",
       "      <td>0002</td>\n",
       "      <td>11900388</td>\n",
       "      <td>2-39-81-4550</td>\n",
       "      <td>America/Los_Angeles</td>\n",
       "      <td>000009741</td>\n",
       "      <td>[{'WhPerMile': 258, 'kWhRequested': 25.8, 'mil...</td>\n",
       "    </tr>\n",
       "    <tr>\n",
       "      <th>2</th>\n",
       "      <td>60cbe90ef9af8b207905e60f</td>\n",
       "      <td>0039</td>\n",
       "      <td>Wed, 02 Jun 2021 04:40:35 GMT</td>\n",
       "      <td>Wed, 02 Jun 2021 06:18:15 GMT</td>\n",
       "      <td>Wed, 02 Jun 2021 06:18:02 GMT</td>\n",
       "      <td>10.668</td>\n",
       "      <td>2_39_79_383_2021-06-02 04:40:35.114311</td>\n",
       "      <td>0002</td>\n",
       "      <td>CA-492</td>\n",
       "      <td>2-39-79-383</td>\n",
       "      <td>America/Los_Angeles</td>\n",
       "      <td>000001470</td>\n",
       "      <td>[{'WhPerMile': 284, 'kWhRequested': 28.4, 'mil...</td>\n",
       "    </tr>\n",
       "    <tr>\n",
       "      <th>3</th>\n",
       "      <td>60cd3a8ff9af8b228751eab0</td>\n",
       "      <td>0039</td>\n",
       "      <td>Wed, 02 Jun 2021 14:43:00 GMT</td>\n",
       "      <td>Wed, 02 Jun 2021 15:31:18 GMT</td>\n",
       "      <td>Wed, 02 Jun 2021 15:23:37 GMT</td>\n",
       "      <td>1.888</td>\n",
       "      <td>2_39_125_21_2021-06-02 14:42:33.185464</td>\n",
       "      <td>0002</td>\n",
       "      <td>CA-311</td>\n",
       "      <td>2-39-125-21</td>\n",
       "      <td>America/Los_Angeles</td>\n",
       "      <td>000001746</td>\n",
       "      <td>[{'WhPerMile': 350, 'kWhRequested': 35.0, 'mil...</td>\n",
       "    </tr>\n",
       "    <tr>\n",
       "      <th>4</th>\n",
       "      <td>60cd3a8ff9af8b228751eab1</td>\n",
       "      <td>0039</td>\n",
       "      <td>Wed, 02 Jun 2021 15:22:50 GMT</td>\n",
       "      <td>Wed, 02 Jun 2021 15:43:01 GMT</td>\n",
       "      <td>None</td>\n",
       "      <td>11.590</td>\n",
       "      <td>2_39_81_4550_2021-06-02 15:22:26.301751</td>\n",
       "      <td>0002</td>\n",
       "      <td>11900388</td>\n",
       "      <td>2-39-81-4550</td>\n",
       "      <td>America/Los_Angeles</td>\n",
       "      <td>000009561</td>\n",
       "      <td>[{'WhPerMile': 299, 'kWhRequested': 38.87, 'mi...</td>\n",
       "    </tr>\n",
       "    <tr>\n",
       "      <th>...</th>\n",
       "      <td>...</td>\n",
       "      <td>...</td>\n",
       "      <td>...</td>\n",
       "      <td>...</td>\n",
       "      <td>...</td>\n",
       "      <td>...</td>\n",
       "      <td>...</td>\n",
       "      <td>...</td>\n",
       "      <td>...</td>\n",
       "      <td>...</td>\n",
       "      <td>...</td>\n",
       "      <td>...</td>\n",
       "      <td>...</td>\n",
       "    </tr>\n",
       "    <tr>\n",
       "      <th>442</th>\n",
       "      <td>60f3769cf9af8b5d8686697c</td>\n",
       "      <td>0039</td>\n",
       "      <td>Thu, 01 Jul 2021 21:28:42 GMT</td>\n",
       "      <td>Thu, 01 Jul 2021 23:06:25 GMT</td>\n",
       "      <td>None</td>\n",
       "      <td>60.148</td>\n",
       "      <td>2_39_81_4550_2021-07-01 21:28:27.706772</td>\n",
       "      <td>0002</td>\n",
       "      <td>11900388</td>\n",
       "      <td>2-39-81-4550</td>\n",
       "      <td>America/Los_Angeles</td>\n",
       "      <td>000004903</td>\n",
       "      <td>[{'WhPerMile': 258, 'kWhRequested': 82.56, 'mi...</td>\n",
       "    </tr>\n",
       "    <tr>\n",
       "      <th>443</th>\n",
       "      <td>60f3769cf9af8b5d8686697d</td>\n",
       "      <td>0039</td>\n",
       "      <td>Thu, 01 Jul 2021 21:39:33 GMT</td>\n",
       "      <td>Thu, 01 Jul 2021 22:11:12 GMT</td>\n",
       "      <td>Thu, 01 Jul 2021 22:11:07 GMT</td>\n",
       "      <td>1.745</td>\n",
       "      <td>2_39_139_28_2021-07-01 21:39:22.327346</td>\n",
       "      <td>0002</td>\n",
       "      <td>CA-303</td>\n",
       "      <td>2-39-139-28</td>\n",
       "      <td>America/Los_Angeles</td>\n",
       "      <td>000015855</td>\n",
       "      <td>[{'WhPerMile': 283, 'kWhRequested': 2.83, 'mil...</td>\n",
       "    </tr>\n",
       "    <tr>\n",
       "      <th>444</th>\n",
       "      <td>60f3769cf9af8b5d8686697e</td>\n",
       "      <td>0039</td>\n",
       "      <td>Thu, 01 Jul 2021 22:20:35 GMT</td>\n",
       "      <td>Thu, 01 Jul 2021 23:35:43 GMT</td>\n",
       "      <td>Thu, 01 Jul 2021 23:05:30 GMT</td>\n",
       "      <td>2.196</td>\n",
       "      <td>2_39_125_21_2021-07-01 22:20:24.317872</td>\n",
       "      <td>0002</td>\n",
       "      <td>CA-311</td>\n",
       "      <td>2-39-125-21</td>\n",
       "      <td>America/Los_Angeles</td>\n",
       "      <td>000001746</td>\n",
       "      <td>[{'WhPerMile': 350, 'kWhRequested': 35.0, 'mil...</td>\n",
       "    </tr>\n",
       "    <tr>\n",
       "      <th>445</th>\n",
       "      <td>60f3769cf9af8b5d8686697f</td>\n",
       "      <td>0039</td>\n",
       "      <td>Thu, 01 Jul 2021 23:12:03 GMT</td>\n",
       "      <td>Thu, 01 Jul 2021 23:45:52 GMT</td>\n",
       "      <td>None</td>\n",
       "      <td>16.412</td>\n",
       "      <td>2_39_81_4550_2021-07-01 23:11:55.190948</td>\n",
       "      <td>0002</td>\n",
       "      <td>11900388</td>\n",
       "      <td>2-39-81-4550</td>\n",
       "      <td>America/Los_Angeles</td>\n",
       "      <td>000009307</td>\n",
       "      <td>[{'WhPerMile': 301, 'kWhRequested': 45.15, 'mi...</td>\n",
       "    </tr>\n",
       "    <tr>\n",
       "      <th>446</th>\n",
       "      <td>60f3769cf9af8b5d86866980</td>\n",
       "      <td>0039</td>\n",
       "      <td>Thu, 01 Jul 2021 23:29:09 GMT</td>\n",
       "      <td>Thu, 01 Jul 2021 23:58:43 GMT</td>\n",
       "      <td>Thu, 01 Jul 2021 23:58:36 GMT</td>\n",
       "      <td>1.685</td>\n",
       "      <td>2_39_129_17_2021-07-01 23:29:00.861299</td>\n",
       "      <td>0002</td>\n",
       "      <td>CA-307</td>\n",
       "      <td>2-39-129-17</td>\n",
       "      <td>America/Los_Angeles</td>\n",
       "      <td>000014564</td>\n",
       "      <td>[{'WhPerMile': 250, 'kWhRequested': 9.0, 'mile...</td>\n",
       "    </tr>\n",
       "  </tbody>\n",
       "</table>\n",
       "<p>447 rows × 13 columns</p>\n",
       "</div>"
      ],
      "text/plain": [
       "                          _id clusterID                 connectionTime  \\\n",
       "0    60cbe90ef9af8b207905e60d      0039  Wed, 02 Jun 2021 02:30:41 GMT   \n",
       "1    60cbe90ef9af8b207905e60e      0039  Wed, 02 Jun 2021 03:11:42 GMT   \n",
       "2    60cbe90ef9af8b207905e60f      0039  Wed, 02 Jun 2021 04:40:35 GMT   \n",
       "3    60cd3a8ff9af8b228751eab0      0039  Wed, 02 Jun 2021 14:43:00 GMT   \n",
       "4    60cd3a8ff9af8b228751eab1      0039  Wed, 02 Jun 2021 15:22:50 GMT   \n",
       "..                        ...       ...                            ...   \n",
       "442  60f3769cf9af8b5d8686697c      0039  Thu, 01 Jul 2021 21:28:42 GMT   \n",
       "443  60f3769cf9af8b5d8686697d      0039  Thu, 01 Jul 2021 21:39:33 GMT   \n",
       "444  60f3769cf9af8b5d8686697e      0039  Thu, 01 Jul 2021 22:20:35 GMT   \n",
       "445  60f3769cf9af8b5d8686697f      0039  Thu, 01 Jul 2021 23:12:03 GMT   \n",
       "446  60f3769cf9af8b5d86866980      0039  Thu, 01 Jul 2021 23:29:09 GMT   \n",
       "\n",
       "                    disconnectTime               doneChargingTime  \\\n",
       "0    Wed, 02 Jun 2021 03:53:12 GMT  Wed, 02 Jun 2021 03:02:02 GMT   \n",
       "1    Wed, 02 Jun 2021 04:17:55 GMT                           None   \n",
       "2    Wed, 02 Jun 2021 06:18:15 GMT  Wed, 02 Jun 2021 06:18:02 GMT   \n",
       "3    Wed, 02 Jun 2021 15:31:18 GMT  Wed, 02 Jun 2021 15:23:37 GMT   \n",
       "4    Wed, 02 Jun 2021 15:43:01 GMT                           None   \n",
       "..                             ...                            ...   \n",
       "442  Thu, 01 Jul 2021 23:06:25 GMT                           None   \n",
       "443  Thu, 01 Jul 2021 22:11:12 GMT  Thu, 01 Jul 2021 22:11:07 GMT   \n",
       "444  Thu, 01 Jul 2021 23:35:43 GMT  Thu, 01 Jul 2021 23:05:30 GMT   \n",
       "445  Thu, 01 Jul 2021 23:45:52 GMT                           None   \n",
       "446  Thu, 01 Jul 2021 23:58:43 GMT  Thu, 01 Jul 2021 23:58:36 GMT   \n",
       "\n",
       "     kWhDelivered                                sessionID siteID   spaceID  \\\n",
       "0           0.816   2_39_139_28_2021-06-02 02:30:40.573850   0002    CA-303   \n",
       "1          49.072  2_39_81_4550_2021-06-02 03:11:17.513917   0002  11900388   \n",
       "2          10.668   2_39_79_383_2021-06-02 04:40:35.114311   0002    CA-492   \n",
       "3           1.888   2_39_125_21_2021-06-02 14:42:33.185464   0002    CA-311   \n",
       "4          11.590  2_39_81_4550_2021-06-02 15:22:26.301751   0002  11900388   \n",
       "..            ...                                      ...    ...       ...   \n",
       "442        60.148  2_39_81_4550_2021-07-01 21:28:27.706772   0002  11900388   \n",
       "443         1.745   2_39_139_28_2021-07-01 21:39:22.327346   0002    CA-303   \n",
       "444         2.196   2_39_125_21_2021-07-01 22:20:24.317872   0002    CA-311   \n",
       "445        16.412  2_39_81_4550_2021-07-01 23:11:55.190948   0002  11900388   \n",
       "446         1.685   2_39_129_17_2021-07-01 23:29:00.861299   0002    CA-307   \n",
       "\n",
       "        stationID             timezone     userID  \\\n",
       "0     2-39-139-28  America/Los_Angeles       None   \n",
       "1    2-39-81-4550  America/Los_Angeles  000009741   \n",
       "2     2-39-79-383  America/Los_Angeles  000001470   \n",
       "3     2-39-125-21  America/Los_Angeles  000001746   \n",
       "4    2-39-81-4550  America/Los_Angeles  000009561   \n",
       "..            ...                  ...        ...   \n",
       "442  2-39-81-4550  America/Los_Angeles  000004903   \n",
       "443   2-39-139-28  America/Los_Angeles  000015855   \n",
       "444   2-39-125-21  America/Los_Angeles  000001746   \n",
       "445  2-39-81-4550  America/Los_Angeles  000009307   \n",
       "446   2-39-129-17  America/Los_Angeles  000014564   \n",
       "\n",
       "                                            userInputs  \n",
       "0                                                 None  \n",
       "1    [{'WhPerMile': 258, 'kWhRequested': 25.8, 'mil...  \n",
       "2    [{'WhPerMile': 284, 'kWhRequested': 28.4, 'mil...  \n",
       "3    [{'WhPerMile': 350, 'kWhRequested': 35.0, 'mil...  \n",
       "4    [{'WhPerMile': 299, 'kWhRequested': 38.87, 'mi...  \n",
       "..                                                 ...  \n",
       "442  [{'WhPerMile': 258, 'kWhRequested': 82.56, 'mi...  \n",
       "443  [{'WhPerMile': 283, 'kWhRequested': 2.83, 'mil...  \n",
       "444  [{'WhPerMile': 350, 'kWhRequested': 35.0, 'mil...  \n",
       "445  [{'WhPerMile': 301, 'kWhRequested': 45.15, 'mi...  \n",
       "446  [{'WhPerMile': 250, 'kWhRequested': 9.0, 'mile...  \n",
       "\n",
       "[447 rows x 13 columns]"
      ]
     },
     "execution_count": 48,
     "metadata": {},
     "output_type": "execute_result"
    }
   ],
   "source": [
    "df"
   ]
  },
  {
   "cell_type": "code",
   "execution_count": 32,
   "id": "e0d0e742-d763-42c5-b456-cf80647409af",
   "metadata": {},
   "outputs": [],
   "source": [
    "connect_time = []\n",
    "\n",
    "for i in range(0,len(df['connectionTime'])):\n",
    "    connect_time.append(df['connectionTime'][i][17:25])"
   ]
  },
  {
   "cell_type": "code",
   "execution_count": 36,
   "id": "6ab2a31f-5497-4dfb-86e7-3496ac2671a7",
   "metadata": {},
   "outputs": [],
   "source": [
    "disconnect_time = []\n",
    "\n",
    "for i in range(0,len(df['disconnectTime'])):\n",
    "    disconnect_time.append(df['disconnectTime'][i][17:25])"
   ]
  },
  {
   "cell_type": "code",
   "execution_count": 46,
   "id": "66c5ec35-5cb5-402e-8663-6cec7d8d4483",
   "metadata": {},
   "outputs": [],
   "source": [
    "done_charging = []\n",
    "\n",
    "for i in range(0,len(df['doneChargingTime'])):\n",
    "    if df['doneChargingTime'][i] != None:\n",
    "        done_charging.append(df['doneChargingTime'][i][17:25])\n",
    "    else:\n",
    "        done_charging.append(None)"
   ]
  },
  {
   "cell_type": "code",
   "execution_count": 64,
   "id": "740090ad-2fe5-4822-aef2-65d94c8da65d",
   "metadata": {},
   "outputs": [],
   "source": [
    "done_charging_dt = pd.to_datetime(done_charging)"
   ]
  },
  {
   "cell_type": "code",
   "execution_count": 65,
   "id": "515b139f-c712-49e1-9260-3078d77a579b",
   "metadata": {},
   "outputs": [
    {
     "data": {
      "text/plain": [
       "DatetimeIndex(['2021-11-27 03:02:02',                 'NaT',\n",
       "               '2021-11-27 06:18:02', '2021-11-27 15:23:37',\n",
       "                               'NaT', '2021-11-27 19:25:23',\n",
       "               '2021-11-27 18:38:14', '2021-11-27 19:51:04',\n",
       "               '2021-11-27 00:28:58', '2021-11-27 16:52:32',\n",
       "               ...\n",
       "                               'NaT', '2021-11-27 21:55:25',\n",
       "                               'NaT', '2021-11-27 21:54:16',\n",
       "               '2021-11-27 22:30:38',                 'NaT',\n",
       "               '2021-11-27 22:11:07', '2021-11-27 23:05:30',\n",
       "                               'NaT', '2021-11-27 23:58:36'],\n",
       "              dtype='datetime64[ns]', length=447, freq=None)"
      ]
     },
     "execution_count": 65,
     "metadata": {},
     "output_type": "execute_result"
    }
   ],
   "source": [
    "done_charging_dt"
   ]
  },
  {
   "cell_type": "code",
   "execution_count": 50,
   "id": "31d73e89-14a3-4bfb-b1df-15dc8dde25c1",
   "metadata": {},
   "outputs": [],
   "source": [
    "connect_time_dt = pd.to_datetime(connect_time)"
   ]
  },
  {
   "cell_type": "code",
   "execution_count": 53,
   "id": "cc79b5a4-edc7-469f-9bed-0026d5189961",
   "metadata": {},
   "outputs": [
    {
     "data": {
      "text/plain": [
       "DatetimeIndex(['2021-11-27 02:30:41', '2021-11-27 03:11:42',\n",
       "               '2021-11-27 04:40:35', '2021-11-27 14:43:00',\n",
       "               '2021-11-27 15:22:50', '2021-11-27 15:45:54',\n",
       "               '2021-11-27 15:47:45', '2021-11-27 15:55:01',\n",
       "               '2021-11-27 16:05:19', '2021-11-27 16:07:03',\n",
       "               ...\n",
       "               '2021-11-27 17:57:44', '2021-11-27 19:53:08',\n",
       "               '2021-11-27 20:01:53', '2021-11-27 20:06:06',\n",
       "               '2021-11-27 20:41:34', '2021-11-27 21:28:42',\n",
       "               '2021-11-27 21:39:33', '2021-11-27 22:20:35',\n",
       "               '2021-11-27 23:12:03', '2021-11-27 23:29:09'],\n",
       "              dtype='datetime64[ns]', length=447, freq=None)"
      ]
     },
     "execution_count": 53,
     "metadata": {},
     "output_type": "execute_result"
    }
   ],
   "source": [
    "connect_time_dt"
   ]
  },
  {
   "cell_type": "code",
   "execution_count": 54,
   "id": "093548ab-0bcd-4678-93b9-5a79696eaf5e",
   "metadata": {},
   "outputs": [],
   "source": [
    "disconnect_time_dt = pd.to_datetime(disconnect_time)"
   ]
  },
  {
   "cell_type": "code",
   "execution_count": 55,
   "id": "4f94531e-431c-43a4-a9e8-686ee88ab20b",
   "metadata": {},
   "outputs": [],
   "source": [
    "charging_time = disconnect_time_dt - connect_time_dt"
   ]
  },
  {
   "cell_type": "code",
   "execution_count": 57,
   "id": "a302d280-7ecc-40da-af3b-3121a3782eb5",
   "metadata": {},
   "outputs": [],
   "source": [
    "df['chargingTime'] = charging_time"
   ]
  },
  {
   "cell_type": "code",
   "execution_count": 175,
   "id": "856839b5-6e58-4376-a0de-53bc705d34f4",
   "metadata": {},
   "outputs": [
    {
     "data": {
      "text/plain": [
       "'Thu, 03 Jun 2021 00:05:44 GMT'"
      ]
     },
     "execution_count": 175,
     "metadata": {},
     "output_type": "execute_result"
    }
   ],
   "source": [
    "df['disconnectTime'][11]"
   ]
  },
  {
   "cell_type": "code",
   "execution_count": 178,
   "id": "5afe1fad-6a4d-4d6c-9bb2-d9ba6db9c11f",
   "metadata": {},
   "outputs": [
    {
     "data": {
      "text/plain": [
       "'Wed, 02 Jun 2021 21:11:20 GMT'"
      ]
     },
     "execution_count": 178,
     "metadata": {},
     "output_type": "execute_result"
    }
   ],
   "source": [
    "df['connectionTime'][11]"
   ]
  },
  {
   "cell_type": "code",
   "execution_count": 197,
   "id": "17320f84-14d2-4428-8a51-1f82889a9a35",
   "metadata": {},
   "outputs": [
    {
     "data": {
      "text/plain": [
       "Timedelta('0 days 09:10:07')"
      ]
     },
     "execution_count": 197,
     "metadata": {},
     "output_type": "execute_result"
    }
   ],
   "source": [
    "df['chargingTime'].max()"
   ]
  },
  {
   "cell_type": "code",
   "execution_count": 198,
   "id": "6ce51fc3-4a43-4144-98d0-4d33fcdd6429",
   "metadata": {},
   "outputs": [
    {
     "data": {
      "text/plain": [
       "Timedelta('0 days 07:14:01')"
      ]
     },
     "execution_count": 198,
     "metadata": {},
     "output_type": "execute_result"
    }
   ],
   "source": [
    "df['overchargeTime'].max()"
   ]
  },
  {
   "cell_type": "code",
   "execution_count": 66,
   "id": "04fada0a-0c8d-4a5d-83d5-b882a82a0a13",
   "metadata": {},
   "outputs": [],
   "source": [
    "overcharge_time = []\n",
    "\n",
    "for i in range(0, len(done_charging_dt)):\n",
    "    if done_charging_dt[i] != None:\n",
    "        overcharge_time.append(disconnect_time_dt[i] - done_charging_dt[i])\n",
    "    else:\n",
    "        overcharge_time.append(None)"
   ]
  },
  {
   "cell_type": "code",
   "execution_count": 68,
   "id": "413a5665-3fce-4f4a-b27c-9ddd9b2b92bd",
   "metadata": {},
   "outputs": [],
   "source": [
    "df['overchargeTime'] = overcharge_time"
   ]
  },
  {
   "cell_type": "code",
   "execution_count": 120,
   "id": "781424d6-5807-4345-9c28-4c97d2b62c6e",
   "metadata": {},
   "outputs": [
    {
     "data": {
      "text/plain": [
       "1374.0"
      ]
     },
     "execution_count": 120,
     "metadata": {},
     "output_type": "execute_result"
    }
   ],
   "source": [
    "86400 + (df['overchargeTime'].astype('timedelta64[s]')[11])"
   ]
  },
  {
   "cell_type": "code",
   "execution_count": 117,
   "id": "d33ec3f8-0b98-40f9-ad03-dadafb290fef",
   "metadata": {},
   "outputs": [
    {
     "data": {
      "text/plain": [
       "Timedelta('-1 days +00:22:54')"
      ]
     },
     "execution_count": 117,
     "metadata": {},
     "output_type": "execute_result"
    }
   ],
   "source": [
    "df['overchargeTime'][11]"
   ]
  },
  {
   "cell_type": "code",
   "execution_count": 131,
   "id": "c4f49890-7a97-4573-96cb-27d80182cb4f",
   "metadata": {},
   "outputs": [],
   "source": [
    "overcharge_sec = []\n",
    "\n",
    "for i in range(0,len(df['overchargeTime'].astype('timedelta64[D]'))):\n",
    "    if (df['overchargeTime'].astype('timedelta64[D]')[i]) == -1.0:\n",
    "        overcharge_sec.append((86400 + (df['overchargeTime'].astype('timedelta64[s]')[i])))\n",
    "    else:\n",
    "        overcharge_sec.append(df['overchargeTime'].astype('timedelta64[s]')[i])\n",
    "\n",
    "\n",
    "#df['overchargeTime'].astype('timedelta64[D]')"
   ]
  },
  {
   "cell_type": "code",
   "execution_count": 137,
   "id": "18680fea-0e45-4860-899c-bcd066001ffa",
   "metadata": {},
   "outputs": [],
   "source": [
    "df['overchargeTime (seconds)'] = overcharge_sec"
   ]
  },
  {
   "cell_type": "code",
   "execution_count": 141,
   "id": "cd2201e5-adf8-4e3c-8a74-a6a2be859cba",
   "metadata": {},
   "outputs": [
    {
     "data": {
      "text/plain": [
       "86342.0"
      ]
     },
     "execution_count": 141,
     "metadata": {},
     "output_type": "execute_result"
    }
   ],
   "source": [
    "df['overchargeTime (seconds)'].max()"
   ]
  },
  {
   "cell_type": "code",
   "execution_count": 142,
   "id": "93208ceb-4f24-4fbc-af71-d15f5b010e2e",
   "metadata": {},
   "outputs": [
    {
     "data": {
      "text/plain": [
       "'23:59:02'"
      ]
     },
     "execution_count": 142,
     "metadata": {},
     "output_type": "execute_result"
    }
   ],
   "source": [
    "import datetime\n",
    "\n",
    "str(datetime.timedelta(seconds=df['overchargeTime (seconds)'].max()))"
   ]
  },
  {
   "cell_type": "code",
   "execution_count": 143,
   "id": "d8edc0cc-c6b7-4785-bc8f-c64942c52ab1",
   "metadata": {},
   "outputs": [
    {
     "data": {
      "text/html": [
       "<div>\n",
       "<style scoped>\n",
       "    .dataframe tbody tr th:only-of-type {\n",
       "        vertical-align: middle;\n",
       "    }\n",
       "\n",
       "    .dataframe tbody tr th {\n",
       "        vertical-align: top;\n",
       "    }\n",
       "\n",
       "    .dataframe thead th {\n",
       "        text-align: right;\n",
       "    }\n",
       "</style>\n",
       "<table border=\"1\" class=\"dataframe\">\n",
       "  <thead>\n",
       "    <tr style=\"text-align: right;\">\n",
       "      <th></th>\n",
       "      <th>_id</th>\n",
       "      <th>clusterID</th>\n",
       "      <th>connectionTime</th>\n",
       "      <th>disconnectTime</th>\n",
       "      <th>doneChargingTime</th>\n",
       "      <th>kWhDelivered</th>\n",
       "      <th>sessionID</th>\n",
       "      <th>siteID</th>\n",
       "      <th>spaceID</th>\n",
       "      <th>stationID</th>\n",
       "      <th>timezone</th>\n",
       "      <th>userID</th>\n",
       "      <th>userInputs</th>\n",
       "      <th>chargingTime</th>\n",
       "      <th>overchargeTime</th>\n",
       "      <th>overchargeTime (seconds)</th>\n",
       "    </tr>\n",
       "  </thead>\n",
       "  <tbody>\n",
       "    <tr>\n",
       "      <th>0</th>\n",
       "      <td>60cbe90ef9af8b207905e60d</td>\n",
       "      <td>0039</td>\n",
       "      <td>Wed, 02 Jun 2021 02:30:41 GMT</td>\n",
       "      <td>Wed, 02 Jun 2021 03:53:12 GMT</td>\n",
       "      <td>Wed, 02 Jun 2021 03:02:02 GMT</td>\n",
       "      <td>0.816</td>\n",
       "      <td>2_39_139_28_2021-06-02 02:30:40.573850</td>\n",
       "      <td>0002</td>\n",
       "      <td>CA-303</td>\n",
       "      <td>2-39-139-28</td>\n",
       "      <td>America/Los_Angeles</td>\n",
       "      <td>None</td>\n",
       "      <td>None</td>\n",
       "      <td>0 days 01:22:31</td>\n",
       "      <td>0 days 00:51:10</td>\n",
       "      <td>3070.0</td>\n",
       "    </tr>\n",
       "    <tr>\n",
       "      <th>1</th>\n",
       "      <td>60cbe90ef9af8b207905e60e</td>\n",
       "      <td>0039</td>\n",
       "      <td>Wed, 02 Jun 2021 03:11:42 GMT</td>\n",
       "      <td>Wed, 02 Jun 2021 04:17:55 GMT</td>\n",
       "      <td>None</td>\n",
       "      <td>49.072</td>\n",
       "      <td>2_39_81_4550_2021-06-02 03:11:17.513917</td>\n",
       "      <td>0002</td>\n",
       "      <td>11900388</td>\n",
       "      <td>2-39-81-4550</td>\n",
       "      <td>America/Los_Angeles</td>\n",
       "      <td>000009741</td>\n",
       "      <td>[{'WhPerMile': 258, 'kWhRequested': 25.8, 'mil...</td>\n",
       "      <td>0 days 01:06:13</td>\n",
       "      <td>NaT</td>\n",
       "      <td>NaN</td>\n",
       "    </tr>\n",
       "    <tr>\n",
       "      <th>2</th>\n",
       "      <td>60cbe90ef9af8b207905e60f</td>\n",
       "      <td>0039</td>\n",
       "      <td>Wed, 02 Jun 2021 04:40:35 GMT</td>\n",
       "      <td>Wed, 02 Jun 2021 06:18:15 GMT</td>\n",
       "      <td>Wed, 02 Jun 2021 06:18:02 GMT</td>\n",
       "      <td>10.668</td>\n",
       "      <td>2_39_79_383_2021-06-02 04:40:35.114311</td>\n",
       "      <td>0002</td>\n",
       "      <td>CA-492</td>\n",
       "      <td>2-39-79-383</td>\n",
       "      <td>America/Los_Angeles</td>\n",
       "      <td>000001470</td>\n",
       "      <td>[{'WhPerMile': 284, 'kWhRequested': 28.4, 'mil...</td>\n",
       "      <td>0 days 01:37:40</td>\n",
       "      <td>0 days 00:00:13</td>\n",
       "      <td>13.0</td>\n",
       "    </tr>\n",
       "    <tr>\n",
       "      <th>3</th>\n",
       "      <td>60cd3a8ff9af8b228751eab0</td>\n",
       "      <td>0039</td>\n",
       "      <td>Wed, 02 Jun 2021 14:43:00 GMT</td>\n",
       "      <td>Wed, 02 Jun 2021 15:31:18 GMT</td>\n",
       "      <td>Wed, 02 Jun 2021 15:23:37 GMT</td>\n",
       "      <td>1.888</td>\n",
       "      <td>2_39_125_21_2021-06-02 14:42:33.185464</td>\n",
       "      <td>0002</td>\n",
       "      <td>CA-311</td>\n",
       "      <td>2-39-125-21</td>\n",
       "      <td>America/Los_Angeles</td>\n",
       "      <td>000001746</td>\n",
       "      <td>[{'WhPerMile': 350, 'kWhRequested': 35.0, 'mil...</td>\n",
       "      <td>0 days 00:48:18</td>\n",
       "      <td>0 days 00:07:41</td>\n",
       "      <td>461.0</td>\n",
       "    </tr>\n",
       "    <tr>\n",
       "      <th>4</th>\n",
       "      <td>60cd3a8ff9af8b228751eab1</td>\n",
       "      <td>0039</td>\n",
       "      <td>Wed, 02 Jun 2021 15:22:50 GMT</td>\n",
       "      <td>Wed, 02 Jun 2021 15:43:01 GMT</td>\n",
       "      <td>None</td>\n",
       "      <td>11.590</td>\n",
       "      <td>2_39_81_4550_2021-06-02 15:22:26.301751</td>\n",
       "      <td>0002</td>\n",
       "      <td>11900388</td>\n",
       "      <td>2-39-81-4550</td>\n",
       "      <td>America/Los_Angeles</td>\n",
       "      <td>000009561</td>\n",
       "      <td>[{'WhPerMile': 299, 'kWhRequested': 38.87, 'mi...</td>\n",
       "      <td>0 days 00:20:11</td>\n",
       "      <td>NaT</td>\n",
       "      <td>NaN</td>\n",
       "    </tr>\n",
       "    <tr>\n",
       "      <th>...</th>\n",
       "      <td>...</td>\n",
       "      <td>...</td>\n",
       "      <td>...</td>\n",
       "      <td>...</td>\n",
       "      <td>...</td>\n",
       "      <td>...</td>\n",
       "      <td>...</td>\n",
       "      <td>...</td>\n",
       "      <td>...</td>\n",
       "      <td>...</td>\n",
       "      <td>...</td>\n",
       "      <td>...</td>\n",
       "      <td>...</td>\n",
       "      <td>...</td>\n",
       "      <td>...</td>\n",
       "      <td>...</td>\n",
       "    </tr>\n",
       "    <tr>\n",
       "      <th>442</th>\n",
       "      <td>60f3769cf9af8b5d8686697c</td>\n",
       "      <td>0039</td>\n",
       "      <td>Thu, 01 Jul 2021 21:28:42 GMT</td>\n",
       "      <td>Thu, 01 Jul 2021 23:06:25 GMT</td>\n",
       "      <td>None</td>\n",
       "      <td>60.148</td>\n",
       "      <td>2_39_81_4550_2021-07-01 21:28:27.706772</td>\n",
       "      <td>0002</td>\n",
       "      <td>11900388</td>\n",
       "      <td>2-39-81-4550</td>\n",
       "      <td>America/Los_Angeles</td>\n",
       "      <td>000004903</td>\n",
       "      <td>[{'WhPerMile': 258, 'kWhRequested': 82.56, 'mi...</td>\n",
       "      <td>0 days 01:37:43</td>\n",
       "      <td>NaT</td>\n",
       "      <td>NaN</td>\n",
       "    </tr>\n",
       "    <tr>\n",
       "      <th>443</th>\n",
       "      <td>60f3769cf9af8b5d8686697d</td>\n",
       "      <td>0039</td>\n",
       "      <td>Thu, 01 Jul 2021 21:39:33 GMT</td>\n",
       "      <td>Thu, 01 Jul 2021 22:11:12 GMT</td>\n",
       "      <td>Thu, 01 Jul 2021 22:11:07 GMT</td>\n",
       "      <td>1.745</td>\n",
       "      <td>2_39_139_28_2021-07-01 21:39:22.327346</td>\n",
       "      <td>0002</td>\n",
       "      <td>CA-303</td>\n",
       "      <td>2-39-139-28</td>\n",
       "      <td>America/Los_Angeles</td>\n",
       "      <td>000015855</td>\n",
       "      <td>[{'WhPerMile': 283, 'kWhRequested': 2.83, 'mil...</td>\n",
       "      <td>0 days 00:31:39</td>\n",
       "      <td>0 days 00:00:05</td>\n",
       "      <td>5.0</td>\n",
       "    </tr>\n",
       "    <tr>\n",
       "      <th>444</th>\n",
       "      <td>60f3769cf9af8b5d8686697e</td>\n",
       "      <td>0039</td>\n",
       "      <td>Thu, 01 Jul 2021 22:20:35 GMT</td>\n",
       "      <td>Thu, 01 Jul 2021 23:35:43 GMT</td>\n",
       "      <td>Thu, 01 Jul 2021 23:05:30 GMT</td>\n",
       "      <td>2.196</td>\n",
       "      <td>2_39_125_21_2021-07-01 22:20:24.317872</td>\n",
       "      <td>0002</td>\n",
       "      <td>CA-311</td>\n",
       "      <td>2-39-125-21</td>\n",
       "      <td>America/Los_Angeles</td>\n",
       "      <td>000001746</td>\n",
       "      <td>[{'WhPerMile': 350, 'kWhRequested': 35.0, 'mil...</td>\n",
       "      <td>0 days 01:15:08</td>\n",
       "      <td>0 days 00:30:13</td>\n",
       "      <td>1813.0</td>\n",
       "    </tr>\n",
       "    <tr>\n",
       "      <th>445</th>\n",
       "      <td>60f3769cf9af8b5d8686697f</td>\n",
       "      <td>0039</td>\n",
       "      <td>Thu, 01 Jul 2021 23:12:03 GMT</td>\n",
       "      <td>Thu, 01 Jul 2021 23:45:52 GMT</td>\n",
       "      <td>None</td>\n",
       "      <td>16.412</td>\n",
       "      <td>2_39_81_4550_2021-07-01 23:11:55.190948</td>\n",
       "      <td>0002</td>\n",
       "      <td>11900388</td>\n",
       "      <td>2-39-81-4550</td>\n",
       "      <td>America/Los_Angeles</td>\n",
       "      <td>000009307</td>\n",
       "      <td>[{'WhPerMile': 301, 'kWhRequested': 45.15, 'mi...</td>\n",
       "      <td>0 days 00:33:49</td>\n",
       "      <td>NaT</td>\n",
       "      <td>NaN</td>\n",
       "    </tr>\n",
       "    <tr>\n",
       "      <th>446</th>\n",
       "      <td>60f3769cf9af8b5d86866980</td>\n",
       "      <td>0039</td>\n",
       "      <td>Thu, 01 Jul 2021 23:29:09 GMT</td>\n",
       "      <td>Thu, 01 Jul 2021 23:58:43 GMT</td>\n",
       "      <td>Thu, 01 Jul 2021 23:58:36 GMT</td>\n",
       "      <td>1.685</td>\n",
       "      <td>2_39_129_17_2021-07-01 23:29:00.861299</td>\n",
       "      <td>0002</td>\n",
       "      <td>CA-307</td>\n",
       "      <td>2-39-129-17</td>\n",
       "      <td>America/Los_Angeles</td>\n",
       "      <td>000014564</td>\n",
       "      <td>[{'WhPerMile': 250, 'kWhRequested': 9.0, 'mile...</td>\n",
       "      <td>0 days 00:29:34</td>\n",
       "      <td>0 days 00:00:07</td>\n",
       "      <td>7.0</td>\n",
       "    </tr>\n",
       "  </tbody>\n",
       "</table>\n",
       "<p>447 rows × 16 columns</p>\n",
       "</div>"
      ],
      "text/plain": [
       "                          _id clusterID                 connectionTime  \\\n",
       "0    60cbe90ef9af8b207905e60d      0039  Wed, 02 Jun 2021 02:30:41 GMT   \n",
       "1    60cbe90ef9af8b207905e60e      0039  Wed, 02 Jun 2021 03:11:42 GMT   \n",
       "2    60cbe90ef9af8b207905e60f      0039  Wed, 02 Jun 2021 04:40:35 GMT   \n",
       "3    60cd3a8ff9af8b228751eab0      0039  Wed, 02 Jun 2021 14:43:00 GMT   \n",
       "4    60cd3a8ff9af8b228751eab1      0039  Wed, 02 Jun 2021 15:22:50 GMT   \n",
       "..                        ...       ...                            ...   \n",
       "442  60f3769cf9af8b5d8686697c      0039  Thu, 01 Jul 2021 21:28:42 GMT   \n",
       "443  60f3769cf9af8b5d8686697d      0039  Thu, 01 Jul 2021 21:39:33 GMT   \n",
       "444  60f3769cf9af8b5d8686697e      0039  Thu, 01 Jul 2021 22:20:35 GMT   \n",
       "445  60f3769cf9af8b5d8686697f      0039  Thu, 01 Jul 2021 23:12:03 GMT   \n",
       "446  60f3769cf9af8b5d86866980      0039  Thu, 01 Jul 2021 23:29:09 GMT   \n",
       "\n",
       "                    disconnectTime               doneChargingTime  \\\n",
       "0    Wed, 02 Jun 2021 03:53:12 GMT  Wed, 02 Jun 2021 03:02:02 GMT   \n",
       "1    Wed, 02 Jun 2021 04:17:55 GMT                           None   \n",
       "2    Wed, 02 Jun 2021 06:18:15 GMT  Wed, 02 Jun 2021 06:18:02 GMT   \n",
       "3    Wed, 02 Jun 2021 15:31:18 GMT  Wed, 02 Jun 2021 15:23:37 GMT   \n",
       "4    Wed, 02 Jun 2021 15:43:01 GMT                           None   \n",
       "..                             ...                            ...   \n",
       "442  Thu, 01 Jul 2021 23:06:25 GMT                           None   \n",
       "443  Thu, 01 Jul 2021 22:11:12 GMT  Thu, 01 Jul 2021 22:11:07 GMT   \n",
       "444  Thu, 01 Jul 2021 23:35:43 GMT  Thu, 01 Jul 2021 23:05:30 GMT   \n",
       "445  Thu, 01 Jul 2021 23:45:52 GMT                           None   \n",
       "446  Thu, 01 Jul 2021 23:58:43 GMT  Thu, 01 Jul 2021 23:58:36 GMT   \n",
       "\n",
       "     kWhDelivered                                sessionID siteID   spaceID  \\\n",
       "0           0.816   2_39_139_28_2021-06-02 02:30:40.573850   0002    CA-303   \n",
       "1          49.072  2_39_81_4550_2021-06-02 03:11:17.513917   0002  11900388   \n",
       "2          10.668   2_39_79_383_2021-06-02 04:40:35.114311   0002    CA-492   \n",
       "3           1.888   2_39_125_21_2021-06-02 14:42:33.185464   0002    CA-311   \n",
       "4          11.590  2_39_81_4550_2021-06-02 15:22:26.301751   0002  11900388   \n",
       "..            ...                                      ...    ...       ...   \n",
       "442        60.148  2_39_81_4550_2021-07-01 21:28:27.706772   0002  11900388   \n",
       "443         1.745   2_39_139_28_2021-07-01 21:39:22.327346   0002    CA-303   \n",
       "444         2.196   2_39_125_21_2021-07-01 22:20:24.317872   0002    CA-311   \n",
       "445        16.412  2_39_81_4550_2021-07-01 23:11:55.190948   0002  11900388   \n",
       "446         1.685   2_39_129_17_2021-07-01 23:29:00.861299   0002    CA-307   \n",
       "\n",
       "        stationID             timezone     userID  \\\n",
       "0     2-39-139-28  America/Los_Angeles       None   \n",
       "1    2-39-81-4550  America/Los_Angeles  000009741   \n",
       "2     2-39-79-383  America/Los_Angeles  000001470   \n",
       "3     2-39-125-21  America/Los_Angeles  000001746   \n",
       "4    2-39-81-4550  America/Los_Angeles  000009561   \n",
       "..            ...                  ...        ...   \n",
       "442  2-39-81-4550  America/Los_Angeles  000004903   \n",
       "443   2-39-139-28  America/Los_Angeles  000015855   \n",
       "444   2-39-125-21  America/Los_Angeles  000001746   \n",
       "445  2-39-81-4550  America/Los_Angeles  000009307   \n",
       "446   2-39-129-17  America/Los_Angeles  000014564   \n",
       "\n",
       "                                            userInputs    chargingTime  \\\n",
       "0                                                 None 0 days 01:22:31   \n",
       "1    [{'WhPerMile': 258, 'kWhRequested': 25.8, 'mil... 0 days 01:06:13   \n",
       "2    [{'WhPerMile': 284, 'kWhRequested': 28.4, 'mil... 0 days 01:37:40   \n",
       "3    [{'WhPerMile': 350, 'kWhRequested': 35.0, 'mil... 0 days 00:48:18   \n",
       "4    [{'WhPerMile': 299, 'kWhRequested': 38.87, 'mi... 0 days 00:20:11   \n",
       "..                                                 ...             ...   \n",
       "442  [{'WhPerMile': 258, 'kWhRequested': 82.56, 'mi... 0 days 01:37:43   \n",
       "443  [{'WhPerMile': 283, 'kWhRequested': 2.83, 'mil... 0 days 00:31:39   \n",
       "444  [{'WhPerMile': 350, 'kWhRequested': 35.0, 'mil... 0 days 01:15:08   \n",
       "445  [{'WhPerMile': 301, 'kWhRequested': 45.15, 'mi... 0 days 00:33:49   \n",
       "446  [{'WhPerMile': 250, 'kWhRequested': 9.0, 'mile... 0 days 00:29:34   \n",
       "\n",
       "     overchargeTime  overchargeTime (seconds)  \n",
       "0   0 days 00:51:10                    3070.0  \n",
       "1               NaT                       NaN  \n",
       "2   0 days 00:00:13                      13.0  \n",
       "3   0 days 00:07:41                     461.0  \n",
       "4               NaT                       NaN  \n",
       "..              ...                       ...  \n",
       "442             NaT                       NaN  \n",
       "443 0 days 00:00:05                       5.0  \n",
       "444 0 days 00:30:13                    1813.0  \n",
       "445             NaT                       NaN  \n",
       "446 0 days 00:00:07                       7.0  \n",
       "\n",
       "[447 rows x 16 columns]"
      ]
     },
     "execution_count": 143,
     "metadata": {},
     "output_type": "execute_result"
    }
   ],
   "source": [
    "df"
   ]
  },
  {
   "cell_type": "code",
   "execution_count": 156,
   "id": "31ef6c00-62f6-4894-afb6-84c7680e0d13",
   "metadata": {},
   "outputs": [],
   "source": [
    "df['overchargeTime (hours)'] = (df['overchargeTime (seconds)'] / 3600)"
   ]
  },
  {
   "cell_type": "code",
   "execution_count": 159,
   "id": "375eec27-cace-48b8-ab50-e00ef2a75939",
   "metadata": {},
   "outputs": [
    {
     "data": {
      "image/png": "[encoded data removed]",
      "text/plain": [
       "<Figure size 640x480 with 1 Axes>"
      ]
     },
     "metadata": {},
     "output_type": "display_data"
    }
   ],
   "source": [
    "df['overchargeTime (hours)'].plot.hist()\n",
    "plt.title('EVs Hours Overcharged')\n",
    "plt.xlabel('Hours')\n",
    "plt.show()"
   ]
  },
  {
   "cell_type": "code",
   "execution_count": 190,
   "id": "df9f80df-78f5-41a5-90c5-eadd054600f3",
   "metadata": {},
   "outputs": [
    {
     "data": {
      "text/plain": [
       "1374.0"
      ]
     },
     "execution_count": 190,
     "metadata": {},
     "output_type": "execute_result"
    }
   ],
   "source": [
    "df['overchargeTime'].astype('timedelta64[s]')[11] + 86400"
   ]
  },
  {
   "cell_type": "code",
   "execution_count": 189,
   "id": "032dabf6-de10-4352-8caa-624d25353b1a",
   "metadata": {},
   "outputs": [
    {
     "data": {
      "text/plain": [
       "10464.0"
      ]
     },
     "execution_count": 189,
     "metadata": {},
     "output_type": "execute_result"
    }
   ],
   "source": [
    "df['chargingTime'].astype('timedelta64[s]')[11] +86400"
   ]
  },
  {
   "cell_type": "code",
   "execution_count": 167,
   "id": "5d667fac-d13f-4f1b-aed1-2017992526f3",
   "metadata": {},
   "outputs": [],
   "source": [
    "staytime = []\n",
    "\n",
    "for i in range(0,len(df['chargingTime'].astype('timedelta64[D]'))):\n",
    "    if (df['chargingTime'].astype('timedelta64[D]')[i]) == -1.0:\n",
    "        staytime.append((86400 + (df['chargingTime'].astype('timedelta64[s]')[i])))\n",
    "    else:\n",
    "        staytime.append(df['chargingTime'].astype('timedelta64[s]')[i])\n"
   ]
  },
  {
   "cell_type": "code",
   "execution_count": 169,
   "id": "8b109798-bcea-4dbd-a196-686a07128259",
   "metadata": {},
   "outputs": [],
   "source": [
    "df['Stay Time (seconds)'] = staytime"
   ]
  },
  {
   "cell_type": "code",
   "execution_count": 172,
   "id": "039759cb-18e5-43cb-b8ff-028d63bc525a",
   "metadata": {},
   "outputs": [],
   "source": [
    "df['Stay Time (hours)'] = (df['Stay Time (seconds)'] / 3600)"
   ]
  },
  {
   "cell_type": "code",
   "execution_count": 195,
   "id": "84b7b3b0-33e6-4162-97b1-a0f50aec0070",
   "metadata": {},
   "outputs": [
    {
     "data": {
      "text/plain": [
       "23.983888888888888"
      ]
     },
     "execution_count": 195,
     "metadata": {},
     "output_type": "execute_result"
    }
   ],
   "source": [
    "df['overchargeTime (hours)'].max()"
   ]
  },
  {
   "cell_type": "code",
   "execution_count": 196,
   "id": "c928366e-6088-4d1b-aa83-daf26403aa19",
   "metadata": {},
   "outputs": [
    {
     "data": {
      "text/plain": [
       "18.72138888888889"
      ]
     },
     "execution_count": 196,
     "metadata": {},
     "output_type": "execute_result"
    }
   ],
   "source": [
    "df['Stay Time (hours)'].max()"
   ]
  },
  {
   "cell_type": "code",
   "execution_count": 173,
   "id": "ecbbc8be-e8ce-47ce-b7d5-ad408b95b678",
   "metadata": {},
   "outputs": [
    {
     "data": {
      "image/png": "[encoded data removed]",
      "text/plain": [
       "<Figure size 640x480 with 1 Axes>"
      ]
     },
     "metadata": {},
     "output_type": "display_data"
    }
   ],
   "source": [
    "df['Stay Time (hours)'].plot.hist()\n",
    "plt.title('Maximum Stay Time')\n",
    "plt.xlabel('Hours')\n",
    "plt.show()"
   ]
  },
  {
   "cell_type": "code",
   "execution_count": 203,
   "id": "12a36e02-04c5-4529-b6ea-359697a4533a",
   "metadata": {},
   "outputs": [
    {
     "data": {
      "text/plain": [
       "[{'WhPerMile': 258,\n",
       "  'kWhRequested': 25.8,\n",
       "  'milesRequested': 100,\n",
       "  'minutesAvailable': 480,\n",
       "  'modifiedAt': 'Wed, 02 Jun 2021 03:11:42 GMT',\n",
       "  'paymentRequired': True,\n",
       "  'requestedDeparture': 'Wed, 02 Jun 2021 11:11:42 GMT',\n",
       "  'userID': 9741}]"
      ]
     },
     "execution_count": 203,
     "metadata": {},
     "output_type": "execute_result"
    }
   ],
   "source": [
    "df['userInputs'][1]"
   ]
  },
  {
   "cell_type": "code",
   "execution_count": 204,
   "id": "c6213155-e64c-40c0-b091-c817e5534194",
   "metadata": {},
   "outputs": [
    {
     "data": {
      "text/plain": [
       "Timedelta('0 days 01:06:13')"
      ]
     },
     "execution_count": 204,
     "metadata": {},
     "output_type": "execute_result"
    }
   ],
   "source": [
    "df['chargingTime'][1]"
   ]
  },
  {
   "cell_type": "code",
   "execution_count": null,
   "id": "826e0dc7-5751-4e43-9399-ed44dbe93fc2",
   "metadata": {},
   "outputs": [],
   "source": []
  }
 ],
 "metadata": {
  "kernelspec": {
   "display_name": "Python 3",
   "language": "python",
   "name": "python3"
  },
  "language_info": {
   "codemirror_mode": {
    "name": "ipython",
    "version": 3
   },
   "file_extension": ".py",
   "mimetype": "text/x-python",
   "name": "python",
   "nbconvert_exporter": "python",
   "pygments_lexer": "ipython3",
   "version": "3.8.8"
  }
 },
 "nbformat": 4,
 "nbformat_minor": 5
}
